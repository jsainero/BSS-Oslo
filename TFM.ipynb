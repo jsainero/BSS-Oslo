{
  "nbformat": 4,
  "nbformat_minor": 0,
  "metadata": {
    "colab": {
      "provenance": [],
      "collapsed_sections": [
        "NXw2LuPoTxEJ",
        "bU_C12m7Y_La",
        "n5vsltg-ZJQx"
      ],
      "mount_file_id": "1yeXzypUDyRcztbw9c3bkM94DrQDenCkt",
      "authorship_tag": "ABX9TyOYQTTBkavPA5PSpbs11K/3",
      "include_colab_link": true
    },
    "kernelspec": {
      "name": "python3",
      "display_name": "Python 3"
    },
    "language_info": {
      "name": "python"
    }
  },
  "cells": [
    {
      "cell_type": "markdown",
      "metadata": {
        "id": "view-in-github",
        "colab_type": "text"
      },
      "source": [
        "<a href=\"https://colab.research.google.com/github/jsainero/BSS-Oslo/blob/master/TFM.ipynb\" target=\"_parent\"><img src=\"https://colab.research.google.com/assets/colab-badge.svg\" alt=\"Open In Colab\"/></a>"
      ]
    },
    {
      "cell_type": "code",
      "execution_count": 1,
      "metadata": {
        "id": "N21KjBpwCOFi"
      },
      "outputs": [],
      "source": [
        "import numpy as np\n",
        "import pandas as pd\n",
        "pd.options.mode.chained_assignment = None\n",
        "import pathlib\n",
        "import os\n",
        "import matplotlib.pyplot as plt\n",
        "%matplotlib inline\n",
        "from datetime import datetime, timedelta, date"
      ]
    },
    {
      "cell_type": "markdown",
      "source": [
        "# Carga de datos"
      ],
      "metadata": {
        "id": "aI-JUDheCSwT"
      }
    },
    {
      "cell_type": "code",
      "source": [
        "from google.colab import drive\n",
        "# drive.mount('/content/drive')\n",
        "%cd /content/drive/MyDrive/UOC/TFM/"
      ],
      "metadata": {
        "colab": {
          "base_uri": "https://localhost:8080/"
        },
        "id": "j9j4Ou3FCShh",
        "outputId": "a86f321e-e2a8-48c1-f679-a686742da364"
      },
      "execution_count": 3,
      "outputs": [
        {
          "output_type": "stream",
          "name": "stdout",
          "text": [
            "/content/drive/MyDrive/UOC/TFM\n"
          ]
        }
      ]
    },
    {
      "cell_type": "markdown",
      "source": [
        "## Datos sobre los viajes"
      ],
      "metadata": {
        "id": "FbnynKALW6H7"
      }
    },
    {
      "cell_type": "code",
      "source": [
        "def count_trips(df, direction):\n",
        "  \n",
        "  if direction not in ('inbound','outbound'):\n",
        "    raise Exception('Invalid value for direction')\n",
        "  else:\n",
        "    trip_time = 'started_at' if direction == 'outbound' else 'ended_at'\n",
        "    trip_station = 'start_station_id' if direction == 'outbound' else 'end_station_id'\n",
        "    df_filtered = df[[trip_time, trip_station, 'duration']]\n",
        "    df_filtered[trip_time] = pd.to_datetime(df_filtered[trip_time])\n",
        "    df_filtered['day'] = df_filtered[trip_time].dt.date\n",
        "    df_filtered['hour'] = df_filtered[trip_time].dt.hour\n",
        "    df_filtered = df_filtered[['day', 'hour', trip_station, 'duration']]\n",
        "    df_filtered.columns = ['day', 'hour', 'station_id', 'duration']\n",
        "    df_filtered['trips'] = 1\n",
        "    df_grouped = df_filtered.groupby(['day', 'hour', 'station_id'], as_index=False).agg({'duration':'mean','trips':'sum'})\n",
        "    \n",
        "    return df_grouped"
      ],
      "metadata": {
        "id": "qTxtVC67xVzn"
      },
      "execution_count": 5,
      "outputs": []
    },
    {
      "cell_type": "markdown",
      "source": [
        "## Datos sobre las estaciones"
      ],
      "metadata": {
        "id": "aHlaSk62XJh5"
      }
    },
    {
      "cell_type": "code",
      "source": [
        "def stations_data(df):\n",
        "\n",
        "  column_names = ['id', 'name', 'latitude', 'longitude']\n",
        "  df_filtered_outbound = df[['start_station_id','start_station_name','start_station_latitude', 'start_station_longitude']]\n",
        "  df_filtered_inbound = df[['end_station_id','end_station_name','end_station_latitude', 'end_station_longitude']]\n",
        "  df_filtered_outbound.columns = column_names\n",
        "  df_filtered_inbound.columns = column_names\n",
        "  df_filtered = df_filtered_outbound.append(df_filtered_inbound)\n",
        "\n",
        "  return df_filtered.drop_duplicates()"
      ],
      "metadata": {
        "id": "OsfO3ENhk13r"
      },
      "execution_count": 6,
      "outputs": []
    },
    {
      "cell_type": "markdown",
      "source": [
        "## Datos sobre el tiempo atmosférico"
      ],
      "metadata": {
        "id": "hPJ5YPJmAwRS"
      }
    },
    {
      "cell_type": "code",
      "source": [
        "from functools import reduce\n",
        "\n",
        "def weather_phenomema_agg(x,y):\n",
        "  if x == 'snow' or y == 'snow':\n",
        "    return 'snow'\n",
        "  elif x == 'rain' or y == 'rain':\n",
        "    return 'rain'\n",
        "  elif x == 'fog' or y == 'fog':\n",
        "    return 'fog'\n",
        "  else:\n",
        "    return 'no phenomena'\n",
        "\n",
        "def weather_phenomema_series(series):\n",
        "  return reduce(lambda x, y: weather_phenomema_agg(x, y), series)"
      ],
      "metadata": {
        "id": "HI4Ie1U6cT-x"
      },
      "execution_count": 7,
      "outputs": []
    },
    {
      "cell_type": "code",
      "source": [
        "import pytz\n",
        "\n",
        "def weather_data(filepath):\n",
        "\n",
        "  df = pd.read_csv(filepath, sep=';', comment='#')\n",
        "  df_cleaned = df.iloc[:,[0,1,6,8]]\n",
        "  df_cleaned.columns = ['time','temperature','wind_speed', 'weather_phenomena']\n",
        "\n",
        "  df_cleaned['weather_phenomena'] = df_cleaned['weather_phenomena'].fillna('no phenomena')\n",
        "  df_cleaned['weather_phenomena'] = df_cleaned['weather_phenomena'].str.lower()\n",
        "  df_cleaned.loc[df_cleaned['weather_phenomena'].str.contains('snow'),'weather_phenomena'] = 'snow'\n",
        "  df_cleaned.loc[df_cleaned['weather_phenomena'].str.contains('rain|drizzle|thunderstorm|shower'),'weather_phenomena'] = 'rain'\n",
        "  df_cleaned.loc[df_cleaned['weather_phenomena'].str.contains('fog|mist'),'weather_phenomena'] = 'fog'\n",
        "  \n",
        "  df_cleaned['time'] = pd.to_datetime(df_cleaned['time'], format='%d.%m.%Y %H:%M')\n",
        "  df_cleaned = df_cleaned.set_index('time')\n",
        "  df_cleaned.index = df_cleaned.index.tz_localize('Europe/Oslo', ambiguous='infer', nonexistent='shift_forward').tz_convert(pytz.utc).tz_convert(None)\n",
        "  df_cleaned = df_cleaned.reset_index()\n",
        "  df_cleaned.time = df_cleaned.time.dt.round('H')\n",
        "\n",
        "  agg_dict = {\n",
        "      'temperature':'mean',\n",
        "      'wind_speed':'mean',\n",
        "      'weather_phenomena':weather_phenomema_series\n",
        "      }\n",
        "  df_grouped = df_cleaned.groupby(['time'], as_index=False).agg(agg_dict)\n",
        "  \n",
        "  return df_grouped\n"
      ],
      "metadata": {
        "id": "ZWtN3__qAwsK"
      },
      "execution_count": 8,
      "outputs": []
    },
    {
      "cell_type": "markdown",
      "source": [
        "## Lectura de datos"
      ],
      "metadata": {
        "id": "IpGEqhVpylFC"
      }
    },
    {
      "cell_type": "code",
      "source": [
        "def read_monthly_data(filepath):\n",
        "\n",
        "  df = pd.read_csv(filepath)\n",
        "  df_outbounds = count_trips(df,'outbound')\n",
        "  df_inbounds = count_trips(df,'inbound')\n",
        "  df_stations = stations_data(df)\n",
        "\n",
        "  return df_outbounds, df_inbounds, df_stations"
      ],
      "metadata": {
        "id": "-2e0N8vqxByC"
      },
      "execution_count": 9,
      "outputs": []
    },
    {
      "cell_type": "code",
      "source": [
        "def read_data(dirpath):\n",
        "\n",
        "  df_outbounds = pd.DataFrame(columns=['day', 'hour', 'station_id', 'duration','trips'])\n",
        "  df_inbounds = pd.DataFrame(columns=['day', 'hour', 'station_id', 'duration','trips'])\n",
        "  df_stations = pd.DataFrame(columns=['id', 'name', 'latitude', 'longitude'])\n",
        "\n",
        "  for year in os.scandir(dirpath+'/bike_trips'):\n",
        "    for month in os.scandir(year):\n",
        "      monthly_outbounds, monthly_inbounds, monthly_stations = read_monthly_data(month)\n",
        "      df_outbounds = df_outbounds.append(monthly_outbounds)\n",
        "      df_inbounds = df_inbounds.append(monthly_inbounds)\n",
        "      df_stations = df_stations.append(monthly_stations)\n",
        "\n",
        "  df_weather = weather_data(dirpath+'/weather/oslo_weather_20210101_20221031.csv')\n",
        "\n",
        "  return df_outbounds, df_inbounds, df_stations.drop_duplicates().reset_index(drop=True), df_weather"
      ],
      "metadata": {
        "id": "SiPj59pevV86"
      },
      "execution_count": 10,
      "outputs": []
    },
    {
      "cell_type": "code",
      "source": [
        "DATA_DIR = 'data'\n",
        "\n",
        "outbounds, inbounds, stations, weather = read_data(DATA_DIR) #Esto tarda 2 mins\n",
        "display(outbounds.head(10))\n",
        "display(stations.head(10))\n",
        "display(weather.head(10))"
      ],
      "metadata": {
        "colab": {
          "base_uri": "https://localhost:8080/",
          "height": 1000
        },
        "id": "LOf7ivg8k6u8",
        "outputId": "da21fa71-7292-49ee-ff65-632150d9c4c4"
      },
      "execution_count": 11,
      "outputs": [
        {
          "output_type": "display_data",
          "data": {
            "text/plain": [
              "          day hour station_id  duration trips\n",
              "0  2020-12-01    4        384     320.0     1\n",
              "1  2020-12-01    4        444     500.0     1\n",
              "2  2020-12-01    4        493     414.0     1\n",
              "3  2020-12-01    4        511     828.0     1\n",
              "4  2020-12-01    4        525     846.0     1\n",
              "5  2020-12-01    4        540     258.0     1\n",
              "6  2020-12-01    4        597     315.0     1\n",
              "7  2020-12-01    4        607     442.0     1\n",
              "8  2020-12-01    5        377     388.0     1\n",
              "9  2020-12-01    5        383     695.5     2"
            ],
            "text/html": [
              "\n",
              "  <div id=\"df-46625a21-79f9-4a96-bd05-5ad4522db728\">\n",
              "    <div class=\"colab-df-container\">\n",
              "      <div>\n",
              "<style scoped>\n",
              "    .dataframe tbody tr th:only-of-type {\n",
              "        vertical-align: middle;\n",
              "    }\n",
              "\n",
              "    .dataframe tbody tr th {\n",
              "        vertical-align: top;\n",
              "    }\n",
              "\n",
              "    .dataframe thead th {\n",
              "        text-align: right;\n",
              "    }\n",
              "</style>\n",
              "<table border=\"1\" class=\"dataframe\">\n",
              "  <thead>\n",
              "    <tr style=\"text-align: right;\">\n",
              "      <th></th>\n",
              "      <th>day</th>\n",
              "      <th>hour</th>\n",
              "      <th>station_id</th>\n",
              "      <th>duration</th>\n",
              "      <th>trips</th>\n",
              "    </tr>\n",
              "  </thead>\n",
              "  <tbody>\n",
              "    <tr>\n",
              "      <th>0</th>\n",
              "      <td>2020-12-01</td>\n",
              "      <td>4</td>\n",
              "      <td>384</td>\n",
              "      <td>320.0</td>\n",
              "      <td>1</td>\n",
              "    </tr>\n",
              "    <tr>\n",
              "      <th>1</th>\n",
              "      <td>2020-12-01</td>\n",
              "      <td>4</td>\n",
              "      <td>444</td>\n",
              "      <td>500.0</td>\n",
              "      <td>1</td>\n",
              "    </tr>\n",
              "    <tr>\n",
              "      <th>2</th>\n",
              "      <td>2020-12-01</td>\n",
              "      <td>4</td>\n",
              "      <td>493</td>\n",
              "      <td>414.0</td>\n",
              "      <td>1</td>\n",
              "    </tr>\n",
              "    <tr>\n",
              "      <th>3</th>\n",
              "      <td>2020-12-01</td>\n",
              "      <td>4</td>\n",
              "      <td>511</td>\n",
              "      <td>828.0</td>\n",
              "      <td>1</td>\n",
              "    </tr>\n",
              "    <tr>\n",
              "      <th>4</th>\n",
              "      <td>2020-12-01</td>\n",
              "      <td>4</td>\n",
              "      <td>525</td>\n",
              "      <td>846.0</td>\n",
              "      <td>1</td>\n",
              "    </tr>\n",
              "    <tr>\n",
              "      <th>5</th>\n",
              "      <td>2020-12-01</td>\n",
              "      <td>4</td>\n",
              "      <td>540</td>\n",
              "      <td>258.0</td>\n",
              "      <td>1</td>\n",
              "    </tr>\n",
              "    <tr>\n",
              "      <th>6</th>\n",
              "      <td>2020-12-01</td>\n",
              "      <td>4</td>\n",
              "      <td>597</td>\n",
              "      <td>315.0</td>\n",
              "      <td>1</td>\n",
              "    </tr>\n",
              "    <tr>\n",
              "      <th>7</th>\n",
              "      <td>2020-12-01</td>\n",
              "      <td>4</td>\n",
              "      <td>607</td>\n",
              "      <td>442.0</td>\n",
              "      <td>1</td>\n",
              "    </tr>\n",
              "    <tr>\n",
              "      <th>8</th>\n",
              "      <td>2020-12-01</td>\n",
              "      <td>5</td>\n",
              "      <td>377</td>\n",
              "      <td>388.0</td>\n",
              "      <td>1</td>\n",
              "    </tr>\n",
              "    <tr>\n",
              "      <th>9</th>\n",
              "      <td>2020-12-01</td>\n",
              "      <td>5</td>\n",
              "      <td>383</td>\n",
              "      <td>695.5</td>\n",
              "      <td>2</td>\n",
              "    </tr>\n",
              "  </tbody>\n",
              "</table>\n",
              "</div>\n",
              "      <button class=\"colab-df-convert\" onclick=\"convertToInteractive('df-46625a21-79f9-4a96-bd05-5ad4522db728')\"\n",
              "              title=\"Convert this dataframe to an interactive table.\"\n",
              "              style=\"display:none;\">\n",
              "        \n",
              "  <svg xmlns=\"http://www.w3.org/2000/svg\" height=\"24px\"viewBox=\"0 0 24 24\"\n",
              "       width=\"24px\">\n",
              "    <path d=\"M0 0h24v24H0V0z\" fill=\"none\"/>\n",
              "    <path d=\"M18.56 5.44l.94 2.06.94-2.06 2.06-.94-2.06-.94-.94-2.06-.94 2.06-2.06.94zm-11 1L8.5 8.5l.94-2.06 2.06-.94-2.06-.94L8.5 2.5l-.94 2.06-2.06.94zm10 10l.94 2.06.94-2.06 2.06-.94-2.06-.94-.94-2.06-.94 2.06-2.06.94z\"/><path d=\"M17.41 7.96l-1.37-1.37c-.4-.4-.92-.59-1.43-.59-.52 0-1.04.2-1.43.59L10.3 9.45l-7.72 7.72c-.78.78-.78 2.05 0 2.83L4 21.41c.39.39.9.59 1.41.59.51 0 1.02-.2 1.41-.59l7.78-7.78 2.81-2.81c.8-.78.8-2.07 0-2.86zM5.41 20L4 18.59l7.72-7.72 1.47 1.35L5.41 20z\"/>\n",
              "  </svg>\n",
              "      </button>\n",
              "      \n",
              "  <style>\n",
              "    .colab-df-container {\n",
              "      display:flex;\n",
              "      flex-wrap:wrap;\n",
              "      gap: 12px;\n",
              "    }\n",
              "\n",
              "    .colab-df-convert {\n",
              "      background-color: #E8F0FE;\n",
              "      border: none;\n",
              "      border-radius: 50%;\n",
              "      cursor: pointer;\n",
              "      display: none;\n",
              "      fill: #1967D2;\n",
              "      height: 32px;\n",
              "      padding: 0 0 0 0;\n",
              "      width: 32px;\n",
              "    }\n",
              "\n",
              "    .colab-df-convert:hover {\n",
              "      background-color: #E2EBFA;\n",
              "      box-shadow: 0px 1px 2px rgba(60, 64, 67, 0.3), 0px 1px 3px 1px rgba(60, 64, 67, 0.15);\n",
              "      fill: #174EA6;\n",
              "    }\n",
              "\n",
              "    [theme=dark] .colab-df-convert {\n",
              "      background-color: #3B4455;\n",
              "      fill: #D2E3FC;\n",
              "    }\n",
              "\n",
              "    [theme=dark] .colab-df-convert:hover {\n",
              "      background-color: #434B5C;\n",
              "      box-shadow: 0px 1px 3px 1px rgba(0, 0, 0, 0.15);\n",
              "      filter: drop-shadow(0px 1px 2px rgba(0, 0, 0, 0.3));\n",
              "      fill: #FFFFFF;\n",
              "    }\n",
              "  </style>\n",
              "\n",
              "      <script>\n",
              "        const buttonEl =\n",
              "          document.querySelector('#df-46625a21-79f9-4a96-bd05-5ad4522db728 button.colab-df-convert');\n",
              "        buttonEl.style.display =\n",
              "          google.colab.kernel.accessAllowed ? 'block' : 'none';\n",
              "\n",
              "        async function convertToInteractive(key) {\n",
              "          const element = document.querySelector('#df-46625a21-79f9-4a96-bd05-5ad4522db728');\n",
              "          const dataTable =\n",
              "            await google.colab.kernel.invokeFunction('convertToInteractive',\n",
              "                                                     [key], {});\n",
              "          if (!dataTable) return;\n",
              "\n",
              "          const docLinkHtml = 'Like what you see? Visit the ' +\n",
              "            '<a target=\"_blank\" href=https://colab.research.google.com/notebooks/data_table.ipynb>data table notebook</a>'\n",
              "            + ' to learn more about interactive tables.';\n",
              "          element.innerHTML = '';\n",
              "          dataTable['output_type'] = 'display_data';\n",
              "          await google.colab.output.renderOutput(dataTable, element);\n",
              "          const docLink = document.createElement('div');\n",
              "          docLink.innerHTML = docLinkHtml;\n",
              "          element.appendChild(docLink);\n",
              "        }\n",
              "      </script>\n",
              "    </div>\n",
              "  </div>\n",
              "  "
            ]
          },
          "metadata": {}
        },
        {
          "output_type": "display_data",
          "data": {
            "text/plain": [
              "    id                       name   latitude  longitude\n",
              "0  540             Lilleborgbanen  59.933632  10.769118\n",
              "1  511         Henrik Ibsens gate  59.915088  10.722280\n",
              "2  525              Myraløkka Øst  59.937205  10.760581\n",
              "3  597                Fredensborg  59.920995  10.750358\n",
              "4  384  Vår Frelsers gravlund sør  59.919463  10.743829\n",
              "5  607        Marcus Thranes gate  59.932772  10.758595\n",
              "6  444                        AHO  59.925265  10.750462\n",
              "7  493  Sofienbergparken nordvest  59.924364  10.761586\n",
              "8  563            Huitfeldts gate  59.912684  10.722900\n",
              "9  489                   Torggata  59.915983  10.751551"
            ],
            "text/html": [
              "\n",
              "  <div id=\"df-76ac4e31-c3d5-40d1-865f-80f9d2d87a07\">\n",
              "    <div class=\"colab-df-container\">\n",
              "      <div>\n",
              "<style scoped>\n",
              "    .dataframe tbody tr th:only-of-type {\n",
              "        vertical-align: middle;\n",
              "    }\n",
              "\n",
              "    .dataframe tbody tr th {\n",
              "        vertical-align: top;\n",
              "    }\n",
              "\n",
              "    .dataframe thead th {\n",
              "        text-align: right;\n",
              "    }\n",
              "</style>\n",
              "<table border=\"1\" class=\"dataframe\">\n",
              "  <thead>\n",
              "    <tr style=\"text-align: right;\">\n",
              "      <th></th>\n",
              "      <th>id</th>\n",
              "      <th>name</th>\n",
              "      <th>latitude</th>\n",
              "      <th>longitude</th>\n",
              "    </tr>\n",
              "  </thead>\n",
              "  <tbody>\n",
              "    <tr>\n",
              "      <th>0</th>\n",
              "      <td>540</td>\n",
              "      <td>Lilleborgbanen</td>\n",
              "      <td>59.933632</td>\n",
              "      <td>10.769118</td>\n",
              "    </tr>\n",
              "    <tr>\n",
              "      <th>1</th>\n",
              "      <td>511</td>\n",
              "      <td>Henrik Ibsens gate</td>\n",
              "      <td>59.915088</td>\n",
              "      <td>10.722280</td>\n",
              "    </tr>\n",
              "    <tr>\n",
              "      <th>2</th>\n",
              "      <td>525</td>\n",
              "      <td>Myraløkka Øst</td>\n",
              "      <td>59.937205</td>\n",
              "      <td>10.760581</td>\n",
              "    </tr>\n",
              "    <tr>\n",
              "      <th>3</th>\n",
              "      <td>597</td>\n",
              "      <td>Fredensborg</td>\n",
              "      <td>59.920995</td>\n",
              "      <td>10.750358</td>\n",
              "    </tr>\n",
              "    <tr>\n",
              "      <th>4</th>\n",
              "      <td>384</td>\n",
              "      <td>Vår Frelsers gravlund sør</td>\n",
              "      <td>59.919463</td>\n",
              "      <td>10.743829</td>\n",
              "    </tr>\n",
              "    <tr>\n",
              "      <th>5</th>\n",
              "      <td>607</td>\n",
              "      <td>Marcus Thranes gate</td>\n",
              "      <td>59.932772</td>\n",
              "      <td>10.758595</td>\n",
              "    </tr>\n",
              "    <tr>\n",
              "      <th>6</th>\n",
              "      <td>444</td>\n",
              "      <td>AHO</td>\n",
              "      <td>59.925265</td>\n",
              "      <td>10.750462</td>\n",
              "    </tr>\n",
              "    <tr>\n",
              "      <th>7</th>\n",
              "      <td>493</td>\n",
              "      <td>Sofienbergparken nordvest</td>\n",
              "      <td>59.924364</td>\n",
              "      <td>10.761586</td>\n",
              "    </tr>\n",
              "    <tr>\n",
              "      <th>8</th>\n",
              "      <td>563</td>\n",
              "      <td>Huitfeldts gate</td>\n",
              "      <td>59.912684</td>\n",
              "      <td>10.722900</td>\n",
              "    </tr>\n",
              "    <tr>\n",
              "      <th>9</th>\n",
              "      <td>489</td>\n",
              "      <td>Torggata</td>\n",
              "      <td>59.915983</td>\n",
              "      <td>10.751551</td>\n",
              "    </tr>\n",
              "  </tbody>\n",
              "</table>\n",
              "</div>\n",
              "      <button class=\"colab-df-convert\" onclick=\"convertToInteractive('df-76ac4e31-c3d5-40d1-865f-80f9d2d87a07')\"\n",
              "              title=\"Convert this dataframe to an interactive table.\"\n",
              "              style=\"display:none;\">\n",
              "        \n",
              "  <svg xmlns=\"http://www.w3.org/2000/svg\" height=\"24px\"viewBox=\"0 0 24 24\"\n",
              "       width=\"24px\">\n",
              "    <path d=\"M0 0h24v24H0V0z\" fill=\"none\"/>\n",
              "    <path d=\"M18.56 5.44l.94 2.06.94-2.06 2.06-.94-2.06-.94-.94-2.06-.94 2.06-2.06.94zm-11 1L8.5 8.5l.94-2.06 2.06-.94-2.06-.94L8.5 2.5l-.94 2.06-2.06.94zm10 10l.94 2.06.94-2.06 2.06-.94-2.06-.94-.94-2.06-.94 2.06-2.06.94z\"/><path d=\"M17.41 7.96l-1.37-1.37c-.4-.4-.92-.59-1.43-.59-.52 0-1.04.2-1.43.59L10.3 9.45l-7.72 7.72c-.78.78-.78 2.05 0 2.83L4 21.41c.39.39.9.59 1.41.59.51 0 1.02-.2 1.41-.59l7.78-7.78 2.81-2.81c.8-.78.8-2.07 0-2.86zM5.41 20L4 18.59l7.72-7.72 1.47 1.35L5.41 20z\"/>\n",
              "  </svg>\n",
              "      </button>\n",
              "      \n",
              "  <style>\n",
              "    .colab-df-container {\n",
              "      display:flex;\n",
              "      flex-wrap:wrap;\n",
              "      gap: 12px;\n",
              "    }\n",
              "\n",
              "    .colab-df-convert {\n",
              "      background-color: #E8F0FE;\n",
              "      border: none;\n",
              "      border-radius: 50%;\n",
              "      cursor: pointer;\n",
              "      display: none;\n",
              "      fill: #1967D2;\n",
              "      height: 32px;\n",
              "      padding: 0 0 0 0;\n",
              "      width: 32px;\n",
              "    }\n",
              "\n",
              "    .colab-df-convert:hover {\n",
              "      background-color: #E2EBFA;\n",
              "      box-shadow: 0px 1px 2px rgba(60, 64, 67, 0.3), 0px 1px 3px 1px rgba(60, 64, 67, 0.15);\n",
              "      fill: #174EA6;\n",
              "    }\n",
              "\n",
              "    [theme=dark] .colab-df-convert {\n",
              "      background-color: #3B4455;\n",
              "      fill: #D2E3FC;\n",
              "    }\n",
              "\n",
              "    [theme=dark] .colab-df-convert:hover {\n",
              "      background-color: #434B5C;\n",
              "      box-shadow: 0px 1px 3px 1px rgba(0, 0, 0, 0.15);\n",
              "      filter: drop-shadow(0px 1px 2px rgba(0, 0, 0, 0.3));\n",
              "      fill: #FFFFFF;\n",
              "    }\n",
              "  </style>\n",
              "\n",
              "      <script>\n",
              "        const buttonEl =\n",
              "          document.querySelector('#df-76ac4e31-c3d5-40d1-865f-80f9d2d87a07 button.colab-df-convert');\n",
              "        buttonEl.style.display =\n",
              "          google.colab.kernel.accessAllowed ? 'block' : 'none';\n",
              "\n",
              "        async function convertToInteractive(key) {\n",
              "          const element = document.querySelector('#df-76ac4e31-c3d5-40d1-865f-80f9d2d87a07');\n",
              "          const dataTable =\n",
              "            await google.colab.kernel.invokeFunction('convertToInteractive',\n",
              "                                                     [key], {});\n",
              "          if (!dataTable) return;\n",
              "\n",
              "          const docLinkHtml = 'Like what you see? Visit the ' +\n",
              "            '<a target=\"_blank\" href=https://colab.research.google.com/notebooks/data_table.ipynb>data table notebook</a>'\n",
              "            + ' to learn more about interactive tables.';\n",
              "          element.innerHTML = '';\n",
              "          dataTable['output_type'] = 'display_data';\n",
              "          await google.colab.output.renderOutput(dataTable, element);\n",
              "          const docLink = document.createElement('div');\n",
              "          docLink.innerHTML = docLinkHtml;\n",
              "          element.appendChild(docLink);\n",
              "        }\n",
              "      </script>\n",
              "    </div>\n",
              "  </div>\n",
              "  "
            ]
          },
          "metadata": {}
        },
        {
          "output_type": "display_data",
          "data": {
            "text/plain": [
              "                 time  temperature  wind_speed weather_phenomena\n",
              "0 2020-12-31 23:00:00         -2.0         3.0              snow\n",
              "1 2021-01-01 00:00:00         -2.0         3.0              snow\n",
              "2 2021-01-01 01:00:00         -2.0         2.5              snow\n",
              "3 2021-01-01 02:00:00         -2.0         3.0              snow\n",
              "4 2021-01-01 03:00:00         -2.0         3.0              snow\n",
              "5 2021-01-01 04:00:00         -2.0         3.0              snow\n",
              "6 2021-01-01 05:00:00         -2.0         3.0              snow\n",
              "7 2021-01-01 06:00:00         -2.0         3.0              snow\n",
              "8 2021-01-01 07:00:00         -2.0         3.0              snow\n",
              "9 2021-01-01 08:00:00         -2.0         3.0              snow"
            ],
            "text/html": [
              "\n",
              "  <div id=\"df-85f1f107-d528-4883-a2a6-40f73aeffe77\">\n",
              "    <div class=\"colab-df-container\">\n",
              "      <div>\n",
              "<style scoped>\n",
              "    .dataframe tbody tr th:only-of-type {\n",
              "        vertical-align: middle;\n",
              "    }\n",
              "\n",
              "    .dataframe tbody tr th {\n",
              "        vertical-align: top;\n",
              "    }\n",
              "\n",
              "    .dataframe thead th {\n",
              "        text-align: right;\n",
              "    }\n",
              "</style>\n",
              "<table border=\"1\" class=\"dataframe\">\n",
              "  <thead>\n",
              "    <tr style=\"text-align: right;\">\n",
              "      <th></th>\n",
              "      <th>time</th>\n",
              "      <th>temperature</th>\n",
              "      <th>wind_speed</th>\n",
              "      <th>weather_phenomena</th>\n",
              "    </tr>\n",
              "  </thead>\n",
              "  <tbody>\n",
              "    <tr>\n",
              "      <th>0</th>\n",
              "      <td>2020-12-31 23:00:00</td>\n",
              "      <td>-2.0</td>\n",
              "      <td>3.0</td>\n",
              "      <td>snow</td>\n",
              "    </tr>\n",
              "    <tr>\n",
              "      <th>1</th>\n",
              "      <td>2021-01-01 00:00:00</td>\n",
              "      <td>-2.0</td>\n",
              "      <td>3.0</td>\n",
              "      <td>snow</td>\n",
              "    </tr>\n",
              "    <tr>\n",
              "      <th>2</th>\n",
              "      <td>2021-01-01 01:00:00</td>\n",
              "      <td>-2.0</td>\n",
              "      <td>2.5</td>\n",
              "      <td>snow</td>\n",
              "    </tr>\n",
              "    <tr>\n",
              "      <th>3</th>\n",
              "      <td>2021-01-01 02:00:00</td>\n",
              "      <td>-2.0</td>\n",
              "      <td>3.0</td>\n",
              "      <td>snow</td>\n",
              "    </tr>\n",
              "    <tr>\n",
              "      <th>4</th>\n",
              "      <td>2021-01-01 03:00:00</td>\n",
              "      <td>-2.0</td>\n",
              "      <td>3.0</td>\n",
              "      <td>snow</td>\n",
              "    </tr>\n",
              "    <tr>\n",
              "      <th>5</th>\n",
              "      <td>2021-01-01 04:00:00</td>\n",
              "      <td>-2.0</td>\n",
              "      <td>3.0</td>\n",
              "      <td>snow</td>\n",
              "    </tr>\n",
              "    <tr>\n",
              "      <th>6</th>\n",
              "      <td>2021-01-01 05:00:00</td>\n",
              "      <td>-2.0</td>\n",
              "      <td>3.0</td>\n",
              "      <td>snow</td>\n",
              "    </tr>\n",
              "    <tr>\n",
              "      <th>7</th>\n",
              "      <td>2021-01-01 06:00:00</td>\n",
              "      <td>-2.0</td>\n",
              "      <td>3.0</td>\n",
              "      <td>snow</td>\n",
              "    </tr>\n",
              "    <tr>\n",
              "      <th>8</th>\n",
              "      <td>2021-01-01 07:00:00</td>\n",
              "      <td>-2.0</td>\n",
              "      <td>3.0</td>\n",
              "      <td>snow</td>\n",
              "    </tr>\n",
              "    <tr>\n",
              "      <th>9</th>\n",
              "      <td>2021-01-01 08:00:00</td>\n",
              "      <td>-2.0</td>\n",
              "      <td>3.0</td>\n",
              "      <td>snow</td>\n",
              "    </tr>\n",
              "  </tbody>\n",
              "</table>\n",
              "</div>\n",
              "      <button class=\"colab-df-convert\" onclick=\"convertToInteractive('df-85f1f107-d528-4883-a2a6-40f73aeffe77')\"\n",
              "              title=\"Convert this dataframe to an interactive table.\"\n",
              "              style=\"display:none;\">\n",
              "        \n",
              "  <svg xmlns=\"http://www.w3.org/2000/svg\" height=\"24px\"viewBox=\"0 0 24 24\"\n",
              "       width=\"24px\">\n",
              "    <path d=\"M0 0h24v24H0V0z\" fill=\"none\"/>\n",
              "    <path d=\"M18.56 5.44l.94 2.06.94-2.06 2.06-.94-2.06-.94-.94-2.06-.94 2.06-2.06.94zm-11 1L8.5 8.5l.94-2.06 2.06-.94-2.06-.94L8.5 2.5l-.94 2.06-2.06.94zm10 10l.94 2.06.94-2.06 2.06-.94-2.06-.94-.94-2.06-.94 2.06-2.06.94z\"/><path d=\"M17.41 7.96l-1.37-1.37c-.4-.4-.92-.59-1.43-.59-.52 0-1.04.2-1.43.59L10.3 9.45l-7.72 7.72c-.78.78-.78 2.05 0 2.83L4 21.41c.39.39.9.59 1.41.59.51 0 1.02-.2 1.41-.59l7.78-7.78 2.81-2.81c.8-.78.8-2.07 0-2.86zM5.41 20L4 18.59l7.72-7.72 1.47 1.35L5.41 20z\"/>\n",
              "  </svg>\n",
              "      </button>\n",
              "      \n",
              "  <style>\n",
              "    .colab-df-container {\n",
              "      display:flex;\n",
              "      flex-wrap:wrap;\n",
              "      gap: 12px;\n",
              "    }\n",
              "\n",
              "    .colab-df-convert {\n",
              "      background-color: #E8F0FE;\n",
              "      border: none;\n",
              "      border-radius: 50%;\n",
              "      cursor: pointer;\n",
              "      display: none;\n",
              "      fill: #1967D2;\n",
              "      height: 32px;\n",
              "      padding: 0 0 0 0;\n",
              "      width: 32px;\n",
              "    }\n",
              "\n",
              "    .colab-df-convert:hover {\n",
              "      background-color: #E2EBFA;\n",
              "      box-shadow: 0px 1px 2px rgba(60, 64, 67, 0.3), 0px 1px 3px 1px rgba(60, 64, 67, 0.15);\n",
              "      fill: #174EA6;\n",
              "    }\n",
              "\n",
              "    [theme=dark] .colab-df-convert {\n",
              "      background-color: #3B4455;\n",
              "      fill: #D2E3FC;\n",
              "    }\n",
              "\n",
              "    [theme=dark] .colab-df-convert:hover {\n",
              "      background-color: #434B5C;\n",
              "      box-shadow: 0px 1px 3px 1px rgba(0, 0, 0, 0.15);\n",
              "      filter: drop-shadow(0px 1px 2px rgba(0, 0, 0, 0.3));\n",
              "      fill: #FFFFFF;\n",
              "    }\n",
              "  </style>\n",
              "\n",
              "      <script>\n",
              "        const buttonEl =\n",
              "          document.querySelector('#df-85f1f107-d528-4883-a2a6-40f73aeffe77 button.colab-df-convert');\n",
              "        buttonEl.style.display =\n",
              "          google.colab.kernel.accessAllowed ? 'block' : 'none';\n",
              "\n",
              "        async function convertToInteractive(key) {\n",
              "          const element = document.querySelector('#df-85f1f107-d528-4883-a2a6-40f73aeffe77');\n",
              "          const dataTable =\n",
              "            await google.colab.kernel.invokeFunction('convertToInteractive',\n",
              "                                                     [key], {});\n",
              "          if (!dataTable) return;\n",
              "\n",
              "          const docLinkHtml = 'Like what you see? Visit the ' +\n",
              "            '<a target=\"_blank\" href=https://colab.research.google.com/notebooks/data_table.ipynb>data table notebook</a>'\n",
              "            + ' to learn more about interactive tables.';\n",
              "          element.innerHTML = '';\n",
              "          dataTable['output_type'] = 'display_data';\n",
              "          await google.colab.output.renderOutput(dataTable, element);\n",
              "          const docLink = document.createElement('div');\n",
              "          docLink.innerHTML = docLinkHtml;\n",
              "          element.appendChild(docLink);\n",
              "        }\n",
              "      </script>\n",
              "    </div>\n",
              "  </div>\n",
              "  "
            ]
          },
          "metadata": {}
        }
      ]
    },
    {
      "cell_type": "markdown",
      "source": [
        "# Análisis descriptivo año 2021"
      ],
      "metadata": {
        "id": "WSKw6cWdXO4m"
      }
    },
    {
      "cell_type": "markdown",
      "source": [
        "- Análisis por:\n",
        "  - [x] hora y día\n",
        "  - [x] mes\n",
        "  - [x] día\n",
        "  - [x] hora\n",
        "  - [x] dia de la semana\n",
        "  - [x] temperaura\n",
        "  - [x] fenómeno temporal\n",
        "\n",
        "- Análisis de estaciones con más diferencia entre outbound e inbound por hora\n",
        "\n",
        "- Añadir el clima y comparar con la duración de los viajes\n",
        "\n",
        "- Mostrar en un mapa inbounds y outbounds de estaciones (opc)\n",
        "\n"
      ],
      "metadata": {
        "id": "TpJJv8iOp_eQ"
      }
    },
    {
      "cell_type": "markdown",
      "source": [
        "## Añadir columnas relevantes"
      ],
      "metadata": {
        "id": "evHuieTsP1kW"
      }
    },
    {
      "cell_type": "code",
      "source": [
        "def enhance_df(df):\n",
        "  df_enhanced = df[(df.day >= pd.to_datetime('2021-01-01').date())\n",
        "            & (df.day <= pd.to_datetime('2021-12-31').date())]\n",
        "\n",
        "  df_enhanced['day_hour'] =  pd.to_datetime(df_enhanced['day']) + pd.to_timedelta(df_enhanced['hour'], unit='h')\n",
        "  df_enhanced['weekday'] = df_enhanced['day_hour'].dt.weekday\n",
        "  df_enhanced['year'] = df_enhanced['day_hour'].dt.year\n",
        "  df_enhanced['month'] = df_enhanced['day_hour'].dt.month\n",
        "  df_enhanced['day_of_month'] = df_enhanced['day_hour'].dt.day\n",
        "  df_enhanced = df_enhanced.merge(weather, how='left', left_on='day_hour', right_on='time')\n",
        "  df_enhanced = df_enhanced[['day_hour','day','hour','station_id','duration','trips','weekday','day_of_month', 'month', 'year', 'temperature','wind_speed','weather_phenomena']]\n",
        "  \n",
        "  return df_enhanced"
      ],
      "metadata": {
        "id": "Jbft1mAkPz95"
      },
      "execution_count": 12,
      "outputs": []
    },
    {
      "cell_type": "code",
      "source": [
        "outbounds_enhanced = enhance_df(outbounds)\n",
        "inbounds_enhanced = enhance_df(inbounds)\n",
        "outbounds_enhanced.head()"
      ],
      "metadata": {
        "colab": {
          "base_uri": "https://localhost:8080/",
          "height": 206
        },
        "id": "1sAOajfG5TvP",
        "outputId": "5a30e69a-335e-4040-a805-b6e7ecbabdec"
      },
      "execution_count": 13,
      "outputs": [
        {
          "output_type": "execute_result",
          "data": {
            "text/plain": [
              "             day_hour         day hour station_id  duration trips  weekday  \\\n",
              "0 2021-12-01 04:00:00  2021-12-01    4        420     807.0     2        2   \n",
              "1 2021-12-01 04:00:00  2021-12-01    4        421    1035.0     1        2   \n",
              "2 2021-12-01 04:00:00  2021-12-01    4        444     368.0     1        2   \n",
              "3 2021-12-01 04:00:00  2021-12-01    4        470     788.0     1        2   \n",
              "4 2021-12-01 04:00:00  2021-12-01    4        503     285.0     1        2   \n",
              "\n",
              "   day_of_month  month  year  temperature  wind_speed weather_phenomena  \n",
              "0             1     12  2021        -16.5         1.5               fog  \n",
              "1             1     12  2021        -16.5         1.5               fog  \n",
              "2             1     12  2021        -16.5         1.5               fog  \n",
              "3             1     12  2021        -16.5         1.5               fog  \n",
              "4             1     12  2021        -16.5         1.5               fog  "
            ],
            "text/html": [
              "\n",
              "  <div id=\"df-ad3da30d-beb9-4606-adc7-28414f114b7f\">\n",
              "    <div class=\"colab-df-container\">\n",
              "      <div>\n",
              "<style scoped>\n",
              "    .dataframe tbody tr th:only-of-type {\n",
              "        vertical-align: middle;\n",
              "    }\n",
              "\n",
              "    .dataframe tbody tr th {\n",
              "        vertical-align: top;\n",
              "    }\n",
              "\n",
              "    .dataframe thead th {\n",
              "        text-align: right;\n",
              "    }\n",
              "</style>\n",
              "<table border=\"1\" class=\"dataframe\">\n",
              "  <thead>\n",
              "    <tr style=\"text-align: right;\">\n",
              "      <th></th>\n",
              "      <th>day_hour</th>\n",
              "      <th>day</th>\n",
              "      <th>hour</th>\n",
              "      <th>station_id</th>\n",
              "      <th>duration</th>\n",
              "      <th>trips</th>\n",
              "      <th>weekday</th>\n",
              "      <th>day_of_month</th>\n",
              "      <th>month</th>\n",
              "      <th>year</th>\n",
              "      <th>temperature</th>\n",
              "      <th>wind_speed</th>\n",
              "      <th>weather_phenomena</th>\n",
              "    </tr>\n",
              "  </thead>\n",
              "  <tbody>\n",
              "    <tr>\n",
              "      <th>0</th>\n",
              "      <td>2021-12-01 04:00:00</td>\n",
              "      <td>2021-12-01</td>\n",
              "      <td>4</td>\n",
              "      <td>420</td>\n",
              "      <td>807.0</td>\n",
              "      <td>2</td>\n",
              "      <td>2</td>\n",
              "      <td>1</td>\n",
              "      <td>12</td>\n",
              "      <td>2021</td>\n",
              "      <td>-16.5</td>\n",
              "      <td>1.5</td>\n",
              "      <td>fog</td>\n",
              "    </tr>\n",
              "    <tr>\n",
              "      <th>1</th>\n",
              "      <td>2021-12-01 04:00:00</td>\n",
              "      <td>2021-12-01</td>\n",
              "      <td>4</td>\n",
              "      <td>421</td>\n",
              "      <td>1035.0</td>\n",
              "      <td>1</td>\n",
              "      <td>2</td>\n",
              "      <td>1</td>\n",
              "      <td>12</td>\n",
              "      <td>2021</td>\n",
              "      <td>-16.5</td>\n",
              "      <td>1.5</td>\n",
              "      <td>fog</td>\n",
              "    </tr>\n",
              "    <tr>\n",
              "      <th>2</th>\n",
              "      <td>2021-12-01 04:00:00</td>\n",
              "      <td>2021-12-01</td>\n",
              "      <td>4</td>\n",
              "      <td>444</td>\n",
              "      <td>368.0</td>\n",
              "      <td>1</td>\n",
              "      <td>2</td>\n",
              "      <td>1</td>\n",
              "      <td>12</td>\n",
              "      <td>2021</td>\n",
              "      <td>-16.5</td>\n",
              "      <td>1.5</td>\n",
              "      <td>fog</td>\n",
              "    </tr>\n",
              "    <tr>\n",
              "      <th>3</th>\n",
              "      <td>2021-12-01 04:00:00</td>\n",
              "      <td>2021-12-01</td>\n",
              "      <td>4</td>\n",
              "      <td>470</td>\n",
              "      <td>788.0</td>\n",
              "      <td>1</td>\n",
              "      <td>2</td>\n",
              "      <td>1</td>\n",
              "      <td>12</td>\n",
              "      <td>2021</td>\n",
              "      <td>-16.5</td>\n",
              "      <td>1.5</td>\n",
              "      <td>fog</td>\n",
              "    </tr>\n",
              "    <tr>\n",
              "      <th>4</th>\n",
              "      <td>2021-12-01 04:00:00</td>\n",
              "      <td>2021-12-01</td>\n",
              "      <td>4</td>\n",
              "      <td>503</td>\n",
              "      <td>285.0</td>\n",
              "      <td>1</td>\n",
              "      <td>2</td>\n",
              "      <td>1</td>\n",
              "      <td>12</td>\n",
              "      <td>2021</td>\n",
              "      <td>-16.5</td>\n",
              "      <td>1.5</td>\n",
              "      <td>fog</td>\n",
              "    </tr>\n",
              "  </tbody>\n",
              "</table>\n",
              "</div>\n",
              "      <button class=\"colab-df-convert\" onclick=\"convertToInteractive('df-ad3da30d-beb9-4606-adc7-28414f114b7f')\"\n",
              "              title=\"Convert this dataframe to an interactive table.\"\n",
              "              style=\"display:none;\">\n",
              "        \n",
              "  <svg xmlns=\"http://www.w3.org/2000/svg\" height=\"24px\"viewBox=\"0 0 24 24\"\n",
              "       width=\"24px\">\n",
              "    <path d=\"M0 0h24v24H0V0z\" fill=\"none\"/>\n",
              "    <path d=\"M18.56 5.44l.94 2.06.94-2.06 2.06-.94-2.06-.94-.94-2.06-.94 2.06-2.06.94zm-11 1L8.5 8.5l.94-2.06 2.06-.94-2.06-.94L8.5 2.5l-.94 2.06-2.06.94zm10 10l.94 2.06.94-2.06 2.06-.94-2.06-.94-.94-2.06-.94 2.06-2.06.94z\"/><path d=\"M17.41 7.96l-1.37-1.37c-.4-.4-.92-.59-1.43-.59-.52 0-1.04.2-1.43.59L10.3 9.45l-7.72 7.72c-.78.78-.78 2.05 0 2.83L4 21.41c.39.39.9.59 1.41.59.51 0 1.02-.2 1.41-.59l7.78-7.78 2.81-2.81c.8-.78.8-2.07 0-2.86zM5.41 20L4 18.59l7.72-7.72 1.47 1.35L5.41 20z\"/>\n",
              "  </svg>\n",
              "      </button>\n",
              "      \n",
              "  <style>\n",
              "    .colab-df-container {\n",
              "      display:flex;\n",
              "      flex-wrap:wrap;\n",
              "      gap: 12px;\n",
              "    }\n",
              "\n",
              "    .colab-df-convert {\n",
              "      background-color: #E8F0FE;\n",
              "      border: none;\n",
              "      border-radius: 50%;\n",
              "      cursor: pointer;\n",
              "      display: none;\n",
              "      fill: #1967D2;\n",
              "      height: 32px;\n",
              "      padding: 0 0 0 0;\n",
              "      width: 32px;\n",
              "    }\n",
              "\n",
              "    .colab-df-convert:hover {\n",
              "      background-color: #E2EBFA;\n",
              "      box-shadow: 0px 1px 2px rgba(60, 64, 67, 0.3), 0px 1px 3px 1px rgba(60, 64, 67, 0.15);\n",
              "      fill: #174EA6;\n",
              "    }\n",
              "\n",
              "    [theme=dark] .colab-df-convert {\n",
              "      background-color: #3B4455;\n",
              "      fill: #D2E3FC;\n",
              "    }\n",
              "\n",
              "    [theme=dark] .colab-df-convert:hover {\n",
              "      background-color: #434B5C;\n",
              "      box-shadow: 0px 1px 3px 1px rgba(0, 0, 0, 0.15);\n",
              "      filter: drop-shadow(0px 1px 2px rgba(0, 0, 0, 0.3));\n",
              "      fill: #FFFFFF;\n",
              "    }\n",
              "  </style>\n",
              "\n",
              "      <script>\n",
              "        const buttonEl =\n",
              "          document.querySelector('#df-ad3da30d-beb9-4606-adc7-28414f114b7f button.colab-df-convert');\n",
              "        buttonEl.style.display =\n",
              "          google.colab.kernel.accessAllowed ? 'block' : 'none';\n",
              "\n",
              "        async function convertToInteractive(key) {\n",
              "          const element = document.querySelector('#df-ad3da30d-beb9-4606-adc7-28414f114b7f');\n",
              "          const dataTable =\n",
              "            await google.colab.kernel.invokeFunction('convertToInteractive',\n",
              "                                                     [key], {});\n",
              "          if (!dataTable) return;\n",
              "\n",
              "          const docLinkHtml = 'Like what you see? Visit the ' +\n",
              "            '<a target=\"_blank\" href=https://colab.research.google.com/notebooks/data_table.ipynb>data table notebook</a>'\n",
              "            + ' to learn more about interactive tables.';\n",
              "          element.innerHTML = '';\n",
              "          dataTable['output_type'] = 'display_data';\n",
              "          await google.colab.output.renderOutput(dataTable, element);\n",
              "          const docLink = document.createElement('div');\n",
              "          docLink.innerHTML = docLinkHtml;\n",
              "          element.appendChild(docLink);\n",
              "        }\n",
              "      </script>\n",
              "    </div>\n",
              "  </div>\n",
              "  "
            ]
          },
          "metadata": {},
          "execution_count": 13
        }
      ]
    },
    {
      "cell_type": "markdown",
      "source": [
        "## Gráficas"
      ],
      "metadata": {
        "id": "NXw2LuPoTxEJ"
      }
    },
    {
      "cell_type": "code",
      "source": [
        "def two_var_graphs(df, x, y, agg_fn='sum'):\n",
        "\n",
        "  df_filtered = df[[x,y]]\n",
        "  df_grouped = df_filtered.groupby([x], as_index=False).agg({y: agg_fn})\n",
        "  df_grouped.plot(x=x, y=y)\n",
        "  plt.show()"
      ],
      "metadata": {
        "id": "bHvJZOHwT9_o"
      },
      "execution_count": null,
      "outputs": []
    },
    {
      "cell_type": "markdown",
      "source": [
        "### Viajes"
      ],
      "metadata": {
        "id": "bU_C12m7Y_La"
      }
    },
    {
      "cell_type": "code",
      "source": [
        "two_var_graphs(outbounds_enhanced, 'day_hour', 'trips', 'sum')"
      ],
      "metadata": {
        "colab": {
          "base_uri": "https://localhost:8080/"
        },
        "id": "CjNIgFMDT5HS",
        "outputId": "91f36133-e3ea-4d82-c113-ace69611e200"
      },
      "execution_count": null,
      "outputs": [
        {
          "output_type": "display_data",
          "data": {
            "text/plain": [
              "<Figure size 432x288 with 1 Axes>"
            ],
            "image/png": "[encoded data removed]"
          },
          "metadata": {
            "needs_background": "light"
          }
        }
      ]
    },
    {
      "cell_type": "code",
      "source": [
        "two_var_graphs(outbounds_enhanced, 'day', 'trips', 'sum')"
      ],
      "metadata": {
        "colab": {
          "base_uri": "https://localhost:8080/"
        },
        "id": "-CQG97alVjFT",
        "outputId": "ad45a498-9b07-4718-8df0-4f72200a9dcd"
      },
      "execution_count": null,
      "outputs": [
        {
          "output_type": "display_data",
          "data": {
            "text/plain": [
              "<Figure size 432x288 with 1 Axes>"
            ],
            "image/png": "[encoded data removed]"
          },
          "metadata": {
            "needs_background": "light"
          }
        }
      ]
    },
    {
      "cell_type": "code",
      "source": [
        "two_var_graphs(outbounds_enhanced, 'hour', 'trips', 'sum')"
      ],
      "metadata": {
        "colab": {
          "base_uri": "https://localhost:8080/"
        },
        "id": "v33j2yGYVnea",
        "outputId": "b224859e-6ed6-4fc7-c40e-57701477330c"
      },
      "execution_count": null,
      "outputs": [
        {
          "output_type": "display_data",
          "data": {
            "text/plain": [
              "<Figure size 432x288 with 1 Axes>"
            ],
            "image/png": "[encoded data removed]"
          },
          "metadata": {
            "needs_background": "light"
          }
        }
      ]
    },
    {
      "cell_type": "code",
      "source": [
        "two_var_graphs(outbounds_enhanced, 'weekday', 'trips', 'sum')"
      ],
      "metadata": {
        "colab": {
          "base_uri": "https://localhost:8080/"
        },
        "id": "0P9jXSUWVuB7",
        "outputId": "da07295c-9925-4426-9eaf-57926d75d865"
      },
      "execution_count": null,
      "outputs": [
        {
          "output_type": "display_data",
          "data": {
            "text/plain": [
              "<Figure size 432x288 with 1 Axes>"
            ],
            "image/png": "[encoded data removed]"
          },
          "metadata": {
            "needs_background": "light"
          }
        }
      ]
    },
    {
      "cell_type": "code",
      "source": [
        "two_var_graphs(outbounds_enhanced, 'month', 'trips', 'sum')"
      ],
      "metadata": {
        "colab": {
          "base_uri": "https://localhost:8080/"
        },
        "id": "8QRYafiTXyhy",
        "outputId": "bf9b7446-a6ae-4b54-855f-9adc99401789"
      },
      "execution_count": null,
      "outputs": [
        {
          "output_type": "display_data",
          "data": {
            "text/plain": [
              "<Figure size 432x288 with 1 Axes>"
            ],
            "image/png": "[encoded data removed]"
          },
          "metadata": {
            "needs_background": "light"
          }
        }
      ]
    },
    {
      "cell_type": "code",
      "source": [
        "two_var_graphs(outbounds_enhanced, 'temperature', 'trips', 'sum')"
      ],
      "metadata": {
        "colab": {
          "base_uri": "https://localhost:8080/"
        },
        "id": "F--Umhp53nrO",
        "outputId": "f03ae236-05a7-40aa-bf8a-1b672eae1679"
      },
      "execution_count": null,
      "outputs": [
        {
          "output_type": "display_data",
          "data": {
            "text/plain": [
              "<Figure size 432x288 with 1 Axes>"
            ],
            "image/png": "[encoded data removed]"
          },
          "metadata": {
            "needs_background": "light"
          }
        }
      ]
    },
    {
      "cell_type": "code",
      "source": [
        "two_var_graphs(outbounds_enhanced, 'weather_phenomena', 'trips', 'sum')"
      ],
      "metadata": {
        "colab": {
          "base_uri": "https://localhost:8080/"
        },
        "id": "r8yQAMJl37uk",
        "outputId": "b1510047-0011-439e-935b-14e5d38a74c3"
      },
      "execution_count": null,
      "outputs": [
        {
          "output_type": "display_data",
          "data": {
            "text/plain": [
              "<Figure size 432x288 with 1 Axes>"
            ],
            "image/png": "[encoded data removed]"
          },
          "metadata": {
            "needs_background": "light"
          }
        }
      ]
    },
    {
      "cell_type": "markdown",
      "source": [
        "### Duración"
      ],
      "metadata": {
        "id": "n5vsltg-ZJQx"
      }
    },
    {
      "cell_type": "code",
      "source": [
        "two_var_graphs(outbounds_enhanced, 'day_hour', 'duration', 'mean')"
      ],
      "metadata": {
        "colab": {
          "base_uri": "https://localhost:8080/"
        },
        "id": "PrKhj9h-ZJvd",
        "outputId": "516e8839-f35b-4970-eb6f-3c71526840c7"
      },
      "execution_count": null,
      "outputs": [
        {
          "output_type": "display_data",
          "data": {
            "text/plain": [
              "<Figure size 432x288 with 1 Axes>"
            ],
            "image/png": "[encoded data removed]"
          },
          "metadata": {
            "needs_background": "light"
          }
        }
      ]
    },
    {
      "cell_type": "code",
      "source": [
        "two_var_graphs(outbounds_enhanced, 'day', 'duration', 'mean')"
      ],
      "metadata": {
        "colab": {
          "base_uri": "https://localhost:8080/"
        },
        "id": "2yrHDl3dZKnN",
        "outputId": "231e2320-3d3b-44e2-8f09-89ffbd07fdc7"
      },
      "execution_count": null,
      "outputs": [
        {
          "output_type": "display_data",
          "data": {
            "text/plain": [
              "<Figure size 432x288 with 1 Axes>"
            ],
            "image/png": "[encoded data removed]"
          },
          "metadata": {
            "needs_background": "light"
          }
        }
      ]
    },
    {
      "cell_type": "code",
      "source": [
        "two_var_graphs(outbounds_enhanced, 'hour', 'duration', 'mean')"
      ],
      "metadata": {
        "colab": {
          "base_uri": "https://localhost:8080/"
        },
        "id": "pM61CazgZKkx",
        "outputId": "e4657df9-6edd-42e1-e31e-f239abec4c24"
      },
      "execution_count": null,
      "outputs": [
        {
          "output_type": "display_data",
          "data": {
            "text/plain": [
              "<Figure size 432x288 with 1 Axes>"
            ],
            "image/png": "[encoded data removed]"
          },
          "metadata": {
            "needs_background": "light"
          }
        }
      ]
    },
    {
      "cell_type": "code",
      "source": [
        "two_var_graphs(outbounds_enhanced, 'weekday', 'duration', 'mean')"
      ],
      "metadata": {
        "colab": {
          "base_uri": "https://localhost:8080/"
        },
        "id": "N-fiS7mcZKiT",
        "outputId": "186f0a47-17df-4c35-f70f-1e664f71da5b"
      },
      "execution_count": null,
      "outputs": [
        {
          "output_type": "display_data",
          "data": {
            "text/plain": [
              "<Figure size 432x288 with 1 Axes>"
            ],
            "image/png": "[encoded data removed]"
          },
          "metadata": {
            "needs_background": "light"
          }
        }
      ]
    },
    {
      "cell_type": "code",
      "source": [
        "two_var_graphs(outbounds_enhanced, 'month', 'duration', 'mean')"
      ],
      "metadata": {
        "colab": {
          "base_uri": "https://localhost:8080/"
        },
        "id": "JpWebSVvZKde",
        "outputId": "fe786886-a031-44d2-9f63-54feed7e2591"
      },
      "execution_count": null,
      "outputs": [
        {
          "output_type": "display_data",
          "data": {
            "text/plain": [
              "<Figure size 432x288 with 1 Axes>"
            ],
            "image/png": "[encoded data removed]"
          },
          "metadata": {
            "needs_background": "light"
          }
        }
      ]
    },
    {
      "cell_type": "code",
      "source": [
        "two_var_graphs(outbounds_enhanced, 'weather_phenomena', 'duration', 'mean')"
      ],
      "metadata": {
        "colab": {
          "base_uri": "https://localhost:8080/"
        },
        "id": "PzPakotn4I4T",
        "outputId": "e4d54698-390a-4603-b202-5b1971d1acf9"
      },
      "execution_count": null,
      "outputs": [
        {
          "output_type": "display_data",
          "data": {
            "text/plain": [
              "<Figure size 432x288 with 1 Axes>"
            ],
            "image/png": "[encoded data removed]"
          },
          "metadata": {
            "needs_background": "light"
          }
        }
      ]
    },
    {
      "cell_type": "markdown",
      "source": [
        "## Estaciones más especiales"
      ],
      "metadata": {
        "id": "IncNl5rC8JrZ"
      }
    },
    {
      "cell_type": "code",
      "source": [
        "outbounds_by_station = outbounds_enhanced.groupby(['station_id']).agg({'trips':'sum'})\n",
        "inbounds_by_station = inbounds_enhanced.groupby(['station_id']).agg({'trips':'sum'})\n",
        "trips_by_station = outbounds_by_station.merge(inbounds_by_station, on='station_id', suffixes=(\"_outbound\", \"_inbound\"))\n",
        "trips_by_station['total_trips'] = trips_by_station['trips_outbound'] + trips_by_station['trips_inbound']\n",
        "trips_by_station['diff_trips'] = trips_by_station['trips_outbound'] - trips_by_station['trips_inbound']\n",
        "trips_by_station.head()"
      ],
      "metadata": {
        "id": "FQRPPivE8H8d",
        "colab": {
          "base_uri": "https://localhost:8080/"
        },
        "outputId": "f61248fd-8a09-4906-e24c-0b869f6d0d13"
      },
      "execution_count": null,
      "outputs": [
        {
          "output_type": "execute_result",
          "data": {
            "text/plain": [
              "            trips_outbound  trips_inbound  total_trips  diff_trips\n",
              "station_id                                                        \n",
              "377                   4825           4857         9682         -32\n",
              "378                   3637           3631         7268           6\n",
              "380                   9227           5396        14623        3831\n",
              "381                   7179           8761        15940       -1582\n",
              "382                   4603           4573         9176          30"
            ],
            "text/html": [
              "\n",
              "  <div id=\"df-998dca8a-852b-4401-ad88-e95fac5429e6\">\n",
              "    <div class=\"colab-df-container\">\n",
              "      <div>\n",
              "<style scoped>\n",
              "    .dataframe tbody tr th:only-of-type {\n",
              "        vertical-align: middle;\n",
              "    }\n",
              "\n",
              "    .dataframe tbody tr th {\n",
              "        vertical-align: top;\n",
              "    }\n",
              "\n",
              "    .dataframe thead th {\n",
              "        text-align: right;\n",
              "    }\n",
              "</style>\n",
              "<table border=\"1\" class=\"dataframe\">\n",
              "  <thead>\n",
              "    <tr style=\"text-align: right;\">\n",
              "      <th></th>\n",
              "      <th>trips_outbound</th>\n",
              "      <th>trips_inbound</th>\n",
              "      <th>total_trips</th>\n",
              "      <th>diff_trips</th>\n",
              "    </tr>\n",
              "    <tr>\n",
              "      <th>station_id</th>\n",
              "      <th></th>\n",
              "      <th></th>\n",
              "      <th></th>\n",
              "      <th></th>\n",
              "    </tr>\n",
              "  </thead>\n",
              "  <tbody>\n",
              "    <tr>\n",
              "      <th>377</th>\n",
              "      <td>4825</td>\n",
              "      <td>4857</td>\n",
              "      <td>9682</td>\n",
              "      <td>-32</td>\n",
              "    </tr>\n",
              "    <tr>\n",
              "      <th>378</th>\n",
              "      <td>3637</td>\n",
              "      <td>3631</td>\n",
              "      <td>7268</td>\n",
              "      <td>6</td>\n",
              "    </tr>\n",
              "    <tr>\n",
              "      <th>380</th>\n",
              "      <td>9227</td>\n",
              "      <td>5396</td>\n",
              "      <td>14623</td>\n",
              "      <td>3831</td>\n",
              "    </tr>\n",
              "    <tr>\n",
              "      <th>381</th>\n",
              "      <td>7179</td>\n",
              "      <td>8761</td>\n",
              "      <td>15940</td>\n",
              "      <td>-1582</td>\n",
              "    </tr>\n",
              "    <tr>\n",
              "      <th>382</th>\n",
              "      <td>4603</td>\n",
              "      <td>4573</td>\n",
              "      <td>9176</td>\n",
              "      <td>30</td>\n",
              "    </tr>\n",
              "  </tbody>\n",
              "</table>\n",
              "</div>\n",
              "      <button class=\"colab-df-convert\" onclick=\"convertToInteractive('df-998dca8a-852b-4401-ad88-e95fac5429e6')\"\n",
              "              title=\"Convert this dataframe to an interactive table.\"\n",
              "              style=\"display:none;\">\n",
              "        \n",
              "  <svg xmlns=\"http://www.w3.org/2000/svg\" height=\"24px\"viewBox=\"0 0 24 24\"\n",
              "       width=\"24px\">\n",
              "    <path d=\"M0 0h24v24H0V0z\" fill=\"none\"/>\n",
              "    <path d=\"M18.56 5.44l.94 2.06.94-2.06 2.06-.94-2.06-.94-.94-2.06-.94 2.06-2.06.94zm-11 1L8.5 8.5l.94-2.06 2.06-.94-2.06-.94L8.5 2.5l-.94 2.06-2.06.94zm10 10l.94 2.06.94-2.06 2.06-.94-2.06-.94-.94-2.06-.94 2.06-2.06.94z\"/><path d=\"M17.41 7.96l-1.37-1.37c-.4-.4-.92-.59-1.43-.59-.52 0-1.04.2-1.43.59L10.3 9.45l-7.72 7.72c-.78.78-.78 2.05 0 2.83L4 21.41c.39.39.9.59 1.41.59.51 0 1.02-.2 1.41-.59l7.78-7.78 2.81-2.81c.8-.78.8-2.07 0-2.86zM5.41 20L4 18.59l7.72-7.72 1.47 1.35L5.41 20z\"/>\n",
              "  </svg>\n",
              "      </button>\n",
              "      \n",
              "  <style>\n",
              "    .colab-df-container {\n",
              "      display:flex;\n",
              "      flex-wrap:wrap;\n",
              "      gap: 12px;\n",
              "    }\n",
              "\n",
              "    .colab-df-convert {\n",
              "      background-color: #E8F0FE;\n",
              "      border: none;\n",
              "      border-radius: 50%;\n",
              "      cursor: pointer;\n",
              "      display: none;\n",
              "      fill: #1967D2;\n",
              "      height: 32px;\n",
              "      padding: 0 0 0 0;\n",
              "      width: 32px;\n",
              "    }\n",
              "\n",
              "    .colab-df-convert:hover {\n",
              "      background-color: #E2EBFA;\n",
              "      box-shadow: 0px 1px 2px rgba(60, 64, 67, 0.3), 0px 1px 3px 1px rgba(60, 64, 67, 0.15);\n",
              "      fill: #174EA6;\n",
              "    }\n",
              "\n",
              "    [theme=dark] .colab-df-convert {\n",
              "      background-color: #3B4455;\n",
              "      fill: #D2E3FC;\n",
              "    }\n",
              "\n",
              "    [theme=dark] .colab-df-convert:hover {\n",
              "      background-color: #434B5C;\n",
              "      box-shadow: 0px 1px 3px 1px rgba(0, 0, 0, 0.15);\n",
              "      filter: drop-shadow(0px 1px 2px rgba(0, 0, 0, 0.3));\n",
              "      fill: #FFFFFF;\n",
              "    }\n",
              "  </style>\n",
              "\n",
              "      <script>\n",
              "        const buttonEl =\n",
              "          document.querySelector('#df-998dca8a-852b-4401-ad88-e95fac5429e6 button.colab-df-convert');\n",
              "        buttonEl.style.display =\n",
              "          google.colab.kernel.accessAllowed ? 'block' : 'none';\n",
              "\n",
              "        async function convertToInteractive(key) {\n",
              "          const element = document.querySelector('#df-998dca8a-852b-4401-ad88-e95fac5429e6');\n",
              "          const dataTable =\n",
              "            await google.colab.kernel.invokeFunction('convertToInteractive',\n",
              "                                                     [key], {});\n",
              "          if (!dataTable) return;\n",
              "\n",
              "          const docLinkHtml = 'Like what you see? Visit the ' +\n",
              "            '<a target=\"_blank\" href=https://colab.research.google.com/notebooks/data_table.ipynb>data table notebook</a>'\n",
              "            + ' to learn more about interactive tables.';\n",
              "          element.innerHTML = '';\n",
              "          dataTable['output_type'] = 'display_data';\n",
              "          await google.colab.output.renderOutput(dataTable, element);\n",
              "          const docLink = document.createElement('div');\n",
              "          docLink.innerHTML = docLinkHtml;\n",
              "          element.appendChild(docLink);\n",
              "        }\n",
              "      </script>\n",
              "    </div>\n",
              "  </div>\n",
              "  "
            ]
          },
          "metadata": {},
          "execution_count": 67
        }
      ]
    },
    {
      "cell_type": "markdown",
      "source": [
        "### Estación más transitada"
      ],
      "metadata": {
        "id": "5NcEgBLJ8XD3"
      }
    },
    {
      "cell_type": "markdown",
      "source": [
        "Definimos como estación más transitada aquella en la que se dejan y se cogen más bicicletas."
      ],
      "metadata": {
        "id": "6gQAoFqlX64o"
      }
    },
    {
      "cell_type": "code",
      "source": [
        "trips_by_station.sort_values(by='total_trips', ascending=False).head()"
      ],
      "metadata": {
        "colab": {
          "base_uri": "https://localhost:8080/"
        },
        "id": "pSMkapphfBwm",
        "outputId": "85c9da54-403d-4bcd-b4cb-0c06077c1628"
      },
      "execution_count": null,
      "outputs": [
        {
          "output_type": "execute_result",
          "data": {
            "text/plain": [
              "            trips_outbound  trips_inbound  total_trips  diff_trips\n",
              "station_id                                                        \n",
              "421                  19655          19644        39299          11\n",
              "551                  17731          21178        38909       -3447\n",
              "398                  18162          18185        36347         -23\n",
              "494                  12357          21208        33565       -8851\n",
              "489                  11997          20455        32452       -8458"
            ],
            "text/html": [
              "\n",
              "  <div id=\"df-9c75eb26-e061-489c-be54-2862b2e87899\">\n",
              "    <div class=\"colab-df-container\">\n",
              "      <div>\n",
              "<style scoped>\n",
              "    .dataframe tbody tr th:only-of-type {\n",
              "        vertical-align: middle;\n",
              "    }\n",
              "\n",
              "    .dataframe tbody tr th {\n",
              "        vertical-align: top;\n",
              "    }\n",
              "\n",
              "    .dataframe thead th {\n",
              "        text-align: right;\n",
              "    }\n",
              "</style>\n",
              "<table border=\"1\" class=\"dataframe\">\n",
              "  <thead>\n",
              "    <tr style=\"text-align: right;\">\n",
              "      <th></th>\n",
              "      <th>trips_outbound</th>\n",
              "      <th>trips_inbound</th>\n",
              "      <th>total_trips</th>\n",
              "      <th>diff_trips</th>\n",
              "    </tr>\n",
              "    <tr>\n",
              "      <th>station_id</th>\n",
              "      <th></th>\n",
              "      <th></th>\n",
              "      <th></th>\n",
              "      <th></th>\n",
              "    </tr>\n",
              "  </thead>\n",
              "  <tbody>\n",
              "    <tr>\n",
              "      <th>421</th>\n",
              "      <td>19655</td>\n",
              "      <td>19644</td>\n",
              "      <td>39299</td>\n",
              "      <td>11</td>\n",
              "    </tr>\n",
              "    <tr>\n",
              "      <th>551</th>\n",
              "      <td>17731</td>\n",
              "      <td>21178</td>\n",
              "      <td>38909</td>\n",
              "      <td>-3447</td>\n",
              "    </tr>\n",
              "    <tr>\n",
              "      <th>398</th>\n",
              "      <td>18162</td>\n",
              "      <td>18185</td>\n",
              "      <td>36347</td>\n",
              "      <td>-23</td>\n",
              "    </tr>\n",
              "    <tr>\n",
              "      <th>494</th>\n",
              "      <td>12357</td>\n",
              "      <td>21208</td>\n",
              "      <td>33565</td>\n",
              "      <td>-8851</td>\n",
              "    </tr>\n",
              "    <tr>\n",
              "      <th>489</th>\n",
              "      <td>11997</td>\n",
              "      <td>20455</td>\n",
              "      <td>32452</td>\n",
              "      <td>-8458</td>\n",
              "    </tr>\n",
              "  </tbody>\n",
              "</table>\n",
              "</div>\n",
              "      <button class=\"colab-df-convert\" onclick=\"convertToInteractive('df-9c75eb26-e061-489c-be54-2862b2e87899')\"\n",
              "              title=\"Convert this dataframe to an interactive table.\"\n",
              "              style=\"display:none;\">\n",
              "        \n",
              "  <svg xmlns=\"http://www.w3.org/2000/svg\" height=\"24px\"viewBox=\"0 0 24 24\"\n",
              "       width=\"24px\">\n",
              "    <path d=\"M0 0h24v24H0V0z\" fill=\"none\"/>\n",
              "    <path d=\"M18.56 5.44l.94 2.06.94-2.06 2.06-.94-2.06-.94-.94-2.06-.94 2.06-2.06.94zm-11 1L8.5 8.5l.94-2.06 2.06-.94-2.06-.94L8.5 2.5l-.94 2.06-2.06.94zm10 10l.94 2.06.94-2.06 2.06-.94-2.06-.94-.94-2.06-.94 2.06-2.06.94z\"/><path d=\"M17.41 7.96l-1.37-1.37c-.4-.4-.92-.59-1.43-.59-.52 0-1.04.2-1.43.59L10.3 9.45l-7.72 7.72c-.78.78-.78 2.05 0 2.83L4 21.41c.39.39.9.59 1.41.59.51 0 1.02-.2 1.41-.59l7.78-7.78 2.81-2.81c.8-.78.8-2.07 0-2.86zM5.41 20L4 18.59l7.72-7.72 1.47 1.35L5.41 20z\"/>\n",
              "  </svg>\n",
              "      </button>\n",
              "      \n",
              "  <style>\n",
              "    .colab-df-container {\n",
              "      display:flex;\n",
              "      flex-wrap:wrap;\n",
              "      gap: 12px;\n",
              "    }\n",
              "\n",
              "    .colab-df-convert {\n",
              "      background-color: #E8F0FE;\n",
              "      border: none;\n",
              "      border-radius: 50%;\n",
              "      cursor: pointer;\n",
              "      display: none;\n",
              "      fill: #1967D2;\n",
              "      height: 32px;\n",
              "      padding: 0 0 0 0;\n",
              "      width: 32px;\n",
              "    }\n",
              "\n",
              "    .colab-df-convert:hover {\n",
              "      background-color: #E2EBFA;\n",
              "      box-shadow: 0px 1px 2px rgba(60, 64, 67, 0.3), 0px 1px 3px 1px rgba(60, 64, 67, 0.15);\n",
              "      fill: #174EA6;\n",
              "    }\n",
              "\n",
              "    [theme=dark] .colab-df-convert {\n",
              "      background-color: #3B4455;\n",
              "      fill: #D2E3FC;\n",
              "    }\n",
              "\n",
              "    [theme=dark] .colab-df-convert:hover {\n",
              "      background-color: #434B5C;\n",
              "      box-shadow: 0px 1px 3px 1px rgba(0, 0, 0, 0.15);\n",
              "      filter: drop-shadow(0px 1px 2px rgba(0, 0, 0, 0.3));\n",
              "      fill: #FFFFFF;\n",
              "    }\n",
              "  </style>\n",
              "\n",
              "      <script>\n",
              "        const buttonEl =\n",
              "          document.querySelector('#df-9c75eb26-e061-489c-be54-2862b2e87899 button.colab-df-convert');\n",
              "        buttonEl.style.display =\n",
              "          google.colab.kernel.accessAllowed ? 'block' : 'none';\n",
              "\n",
              "        async function convertToInteractive(key) {\n",
              "          const element = document.querySelector('#df-9c75eb26-e061-489c-be54-2862b2e87899');\n",
              "          const dataTable =\n",
              "            await google.colab.kernel.invokeFunction('convertToInteractive',\n",
              "                                                     [key], {});\n",
              "          if (!dataTable) return;\n",
              "\n",
              "          const docLinkHtml = 'Like what you see? Visit the ' +\n",
              "            '<a target=\"_blank\" href=https://colab.research.google.com/notebooks/data_table.ipynb>data table notebook</a>'\n",
              "            + ' to learn more about interactive tables.';\n",
              "          element.innerHTML = '';\n",
              "          dataTable['output_type'] = 'display_data';\n",
              "          await google.colab.output.renderOutput(dataTable, element);\n",
              "          const docLink = document.createElement('div');\n",
              "          docLink.innerHTML = docLinkHtml;\n",
              "          element.appendChild(docLink);\n",
              "        }\n",
              "      </script>\n",
              "    </div>\n",
              "  </div>\n",
              "  "
            ]
          },
          "metadata": {},
          "execution_count": 38
        }
      ]
    },
    {
      "cell_type": "markdown",
      "source": [
        "### Estación menos transitada"
      ],
      "metadata": {
        "id": "UZfDMD5l8b_Z"
      }
    },
    {
      "cell_type": "code",
      "source": [
        "trips_by_station.sort_values(by='total_trips', ascending=True).head()"
      ],
      "metadata": {
        "id": "a6idRxrJ8giO",
        "colab": {
          "base_uri": "https://localhost:8080/"
        },
        "outputId": "fd10dd32-c20e-4fed-dd2e-649739a1a561"
      },
      "execution_count": null,
      "outputs": [
        {
          "output_type": "execute_result",
          "data": {
            "text/plain": [
              "            trips_outbound  trips_inbound  total_trips  diff_trips\n",
              "station_id                                                        \n",
              "2329                     8              5           13           3\n",
              "2330                    31             29           60           2\n",
              "2328                    74            116          190         -42\n",
              "566                    114            114          228           0\n",
              "1919                   593            410         1003         183\n",
              "560                    809            416         1225         393\n",
              "2309                   812            489         1301         323\n",
              "2306                   957            562         1519         395\n",
              "571                    799            983         1782        -184\n",
              "498                   1331            458         1789         873"
            ],
            "text/html": [
              "\n",
              "  <div id=\"df-c4dece7d-c4c9-41a3-861e-fdd969c20020\">\n",
              "    <div class=\"colab-df-container\">\n",
              "      <div>\n",
              "<style scoped>\n",
              "    .dataframe tbody tr th:only-of-type {\n",
              "        vertical-align: middle;\n",
              "    }\n",
              "\n",
              "    .dataframe tbody tr th {\n",
              "        vertical-align: top;\n",
              "    }\n",
              "\n",
              "    .dataframe thead th {\n",
              "        text-align: right;\n",
              "    }\n",
              "</style>\n",
              "<table border=\"1\" class=\"dataframe\">\n",
              "  <thead>\n",
              "    <tr style=\"text-align: right;\">\n",
              "      <th></th>\n",
              "      <th>trips_outbound</th>\n",
              "      <th>trips_inbound</th>\n",
              "      <th>total_trips</th>\n",
              "      <th>diff_trips</th>\n",
              "    </tr>\n",
              "    <tr>\n",
              "      <th>station_id</th>\n",
              "      <th></th>\n",
              "      <th></th>\n",
              "      <th></th>\n",
              "      <th></th>\n",
              "    </tr>\n",
              "  </thead>\n",
              "  <tbody>\n",
              "    <tr>\n",
              "      <th>2329</th>\n",
              "      <td>8</td>\n",
              "      <td>5</td>\n",
              "      <td>13</td>\n",
              "      <td>3</td>\n",
              "    </tr>\n",
              "    <tr>\n",
              "      <th>2330</th>\n",
              "      <td>31</td>\n",
              "      <td>29</td>\n",
              "      <td>60</td>\n",
              "      <td>2</td>\n",
              "    </tr>\n",
              "    <tr>\n",
              "      <th>2328</th>\n",
              "      <td>74</td>\n",
              "      <td>116</td>\n",
              "      <td>190</td>\n",
              "      <td>-42</td>\n",
              "    </tr>\n",
              "    <tr>\n",
              "      <th>566</th>\n",
              "      <td>114</td>\n",
              "      <td>114</td>\n",
              "      <td>228</td>\n",
              "      <td>0</td>\n",
              "    </tr>\n",
              "    <tr>\n",
              "      <th>1919</th>\n",
              "      <td>593</td>\n",
              "      <td>410</td>\n",
              "      <td>1003</td>\n",
              "      <td>183</td>\n",
              "    </tr>\n",
              "    <tr>\n",
              "      <th>560</th>\n",
              "      <td>809</td>\n",
              "      <td>416</td>\n",
              "      <td>1225</td>\n",
              "      <td>393</td>\n",
              "    </tr>\n",
              "    <tr>\n",
              "      <th>2309</th>\n",
              "      <td>812</td>\n",
              "      <td>489</td>\n",
              "      <td>1301</td>\n",
              "      <td>323</td>\n",
              "    </tr>\n",
              "    <tr>\n",
              "      <th>2306</th>\n",
              "      <td>957</td>\n",
              "      <td>562</td>\n",
              "      <td>1519</td>\n",
              "      <td>395</td>\n",
              "    </tr>\n",
              "    <tr>\n",
              "      <th>571</th>\n",
              "      <td>799</td>\n",
              "      <td>983</td>\n",
              "      <td>1782</td>\n",
              "      <td>-184</td>\n",
              "    </tr>\n",
              "    <tr>\n",
              "      <th>498</th>\n",
              "      <td>1331</td>\n",
              "      <td>458</td>\n",
              "      <td>1789</td>\n",
              "      <td>873</td>\n",
              "    </tr>\n",
              "  </tbody>\n",
              "</table>\n",
              "</div>\n",
              "      <button class=\"colab-df-convert\" onclick=\"convertToInteractive('df-c4dece7d-c4c9-41a3-861e-fdd969c20020')\"\n",
              "              title=\"Convert this dataframe to an interactive table.\"\n",
              "              style=\"display:none;\">\n",
              "        \n",
              "  <svg xmlns=\"http://www.w3.org/2000/svg\" height=\"24px\"viewBox=\"0 0 24 24\"\n",
              "       width=\"24px\">\n",
              "    <path d=\"M0 0h24v24H0V0z\" fill=\"none\"/>\n",
              "    <path d=\"M18.56 5.44l.94 2.06.94-2.06 2.06-.94-2.06-.94-.94-2.06-.94 2.06-2.06.94zm-11 1L8.5 8.5l.94-2.06 2.06-.94-2.06-.94L8.5 2.5l-.94 2.06-2.06.94zm10 10l.94 2.06.94-2.06 2.06-.94-2.06-.94-.94-2.06-.94 2.06-2.06.94z\"/><path d=\"M17.41 7.96l-1.37-1.37c-.4-.4-.92-.59-1.43-.59-.52 0-1.04.2-1.43.59L10.3 9.45l-7.72 7.72c-.78.78-.78 2.05 0 2.83L4 21.41c.39.39.9.59 1.41.59.51 0 1.02-.2 1.41-.59l7.78-7.78 2.81-2.81c.8-.78.8-2.07 0-2.86zM5.41 20L4 18.59l7.72-7.72 1.47 1.35L5.41 20z\"/>\n",
              "  </svg>\n",
              "      </button>\n",
              "      \n",
              "  <style>\n",
              "    .colab-df-container {\n",
              "      display:flex;\n",
              "      flex-wrap:wrap;\n",
              "      gap: 12px;\n",
              "    }\n",
              "\n",
              "    .colab-df-convert {\n",
              "      background-color: #E8F0FE;\n",
              "      border: none;\n",
              "      border-radius: 50%;\n",
              "      cursor: pointer;\n",
              "      display: none;\n",
              "      fill: #1967D2;\n",
              "      height: 32px;\n",
              "      padding: 0 0 0 0;\n",
              "      width: 32px;\n",
              "    }\n",
              "\n",
              "    .colab-df-convert:hover {\n",
              "      background-color: #E2EBFA;\n",
              "      box-shadow: 0px 1px 2px rgba(60, 64, 67, 0.3), 0px 1px 3px 1px rgba(60, 64, 67, 0.15);\n",
              "      fill: #174EA6;\n",
              "    }\n",
              "\n",
              "    [theme=dark] .colab-df-convert {\n",
              "      background-color: #3B4455;\n",
              "      fill: #D2E3FC;\n",
              "    }\n",
              "\n",
              "    [theme=dark] .colab-df-convert:hover {\n",
              "      background-color: #434B5C;\n",
              "      box-shadow: 0px 1px 3px 1px rgba(0, 0, 0, 0.15);\n",
              "      filter: drop-shadow(0px 1px 2px rgba(0, 0, 0, 0.3));\n",
              "      fill: #FFFFFF;\n",
              "    }\n",
              "  </style>\n",
              "\n",
              "      <script>\n",
              "        const buttonEl =\n",
              "          document.querySelector('#df-c4dece7d-c4c9-41a3-861e-fdd969c20020 button.colab-df-convert');\n",
              "        buttonEl.style.display =\n",
              "          google.colab.kernel.accessAllowed ? 'block' : 'none';\n",
              "\n",
              "        async function convertToInteractive(key) {\n",
              "          const element = document.querySelector('#df-c4dece7d-c4c9-41a3-861e-fdd969c20020');\n",
              "          const dataTable =\n",
              "            await google.colab.kernel.invokeFunction('convertToInteractive',\n",
              "                                                     [key], {});\n",
              "          if (!dataTable) return;\n",
              "\n",
              "          const docLinkHtml = 'Like what you see? Visit the ' +\n",
              "            '<a target=\"_blank\" href=https://colab.research.google.com/notebooks/data_table.ipynb>data table notebook</a>'\n",
              "            + ' to learn more about interactive tables.';\n",
              "          element.innerHTML = '';\n",
              "          dataTable['output_type'] = 'display_data';\n",
              "          await google.colab.output.renderOutput(dataTable, element);\n",
              "          const docLink = document.createElement('div');\n",
              "          docLink.innerHTML = docLinkHtml;\n",
              "          element.appendChild(docLink);\n",
              "        }\n",
              "      </script>\n",
              "    </div>\n",
              "  </div>\n",
              "  "
            ]
          },
          "metadata": {},
          "execution_count": 40
        }
      ]
    },
    {
      "cell_type": "markdown",
      "source": [
        "### Estación más desbalanceada por exceso de salidas"
      ],
      "metadata": {
        "id": "sUU4Zw4l8g1P"
      }
    },
    {
      "cell_type": "code",
      "source": [
        "trips_by_station.sort_values(by='diff_trips', ascending=True).head()"
      ],
      "metadata": {
        "id": "5MIe-8a68nWj",
        "colab": {
          "base_uri": "https://localhost:8080/"
        },
        "outputId": "7303ba41-8643-41f7-e3a2-bd209ada982e"
      },
      "execution_count": null,
      "outputs": [
        {
          "output_type": "execute_result",
          "data": {
            "text/plain": [
              "            trips_outbound  trips_inbound  total_trips  diff_trips\n",
              "station_id                                                        \n",
              "494                  12357          21208        33565       -8851\n",
              "489                  11997          20455        32452       -8458\n",
              "495                   5450          13374        18824       -7924\n",
              "599                   4250          12091        16341       -7841\n",
              "611                   5299          13068        18367       -7769"
            ],
            "text/html": [
              "\n",
              "  <div id=\"df-11fe7074-ad39-462d-864b-08484f54f26e\">\n",
              "    <div class=\"colab-df-container\">\n",
              "      <div>\n",
              "<style scoped>\n",
              "    .dataframe tbody tr th:only-of-type {\n",
              "        vertical-align: middle;\n",
              "    }\n",
              "\n",
              "    .dataframe tbody tr th {\n",
              "        vertical-align: top;\n",
              "    }\n",
              "\n",
              "    .dataframe thead th {\n",
              "        text-align: right;\n",
              "    }\n",
              "</style>\n",
              "<table border=\"1\" class=\"dataframe\">\n",
              "  <thead>\n",
              "    <tr style=\"text-align: right;\">\n",
              "      <th></th>\n",
              "      <th>trips_outbound</th>\n",
              "      <th>trips_inbound</th>\n",
              "      <th>total_trips</th>\n",
              "      <th>diff_trips</th>\n",
              "    </tr>\n",
              "    <tr>\n",
              "      <th>station_id</th>\n",
              "      <th></th>\n",
              "      <th></th>\n",
              "      <th></th>\n",
              "      <th></th>\n",
              "    </tr>\n",
              "  </thead>\n",
              "  <tbody>\n",
              "    <tr>\n",
              "      <th>494</th>\n",
              "      <td>12357</td>\n",
              "      <td>21208</td>\n",
              "      <td>33565</td>\n",
              "      <td>-8851</td>\n",
              "    </tr>\n",
              "    <tr>\n",
              "      <th>489</th>\n",
              "      <td>11997</td>\n",
              "      <td>20455</td>\n",
              "      <td>32452</td>\n",
              "      <td>-8458</td>\n",
              "    </tr>\n",
              "    <tr>\n",
              "      <th>495</th>\n",
              "      <td>5450</td>\n",
              "      <td>13374</td>\n",
              "      <td>18824</td>\n",
              "      <td>-7924</td>\n",
              "    </tr>\n",
              "    <tr>\n",
              "      <th>599</th>\n",
              "      <td>4250</td>\n",
              "      <td>12091</td>\n",
              "      <td>16341</td>\n",
              "      <td>-7841</td>\n",
              "    </tr>\n",
              "    <tr>\n",
              "      <th>611</th>\n",
              "      <td>5299</td>\n",
              "      <td>13068</td>\n",
              "      <td>18367</td>\n",
              "      <td>-7769</td>\n",
              "    </tr>\n",
              "  </tbody>\n",
              "</table>\n",
              "</div>\n",
              "      <button class=\"colab-df-convert\" onclick=\"convertToInteractive('df-11fe7074-ad39-462d-864b-08484f54f26e')\"\n",
              "              title=\"Convert this dataframe to an interactive table.\"\n",
              "              style=\"display:none;\">\n",
              "        \n",
              "  <svg xmlns=\"http://www.w3.org/2000/svg\" height=\"24px\"viewBox=\"0 0 24 24\"\n",
              "       width=\"24px\">\n",
              "    <path d=\"M0 0h24v24H0V0z\" fill=\"none\"/>\n",
              "    <path d=\"M18.56 5.44l.94 2.06.94-2.06 2.06-.94-2.06-.94-.94-2.06-.94 2.06-2.06.94zm-11 1L8.5 8.5l.94-2.06 2.06-.94-2.06-.94L8.5 2.5l-.94 2.06-2.06.94zm10 10l.94 2.06.94-2.06 2.06-.94-2.06-.94-.94-2.06-.94 2.06-2.06.94z\"/><path d=\"M17.41 7.96l-1.37-1.37c-.4-.4-.92-.59-1.43-.59-.52 0-1.04.2-1.43.59L10.3 9.45l-7.72 7.72c-.78.78-.78 2.05 0 2.83L4 21.41c.39.39.9.59 1.41.59.51 0 1.02-.2 1.41-.59l7.78-7.78 2.81-2.81c.8-.78.8-2.07 0-2.86zM5.41 20L4 18.59l7.72-7.72 1.47 1.35L5.41 20z\"/>\n",
              "  </svg>\n",
              "      </button>\n",
              "      \n",
              "  <style>\n",
              "    .colab-df-container {\n",
              "      display:flex;\n",
              "      flex-wrap:wrap;\n",
              "      gap: 12px;\n",
              "    }\n",
              "\n",
              "    .colab-df-convert {\n",
              "      background-color: #E8F0FE;\n",
              "      border: none;\n",
              "      border-radius: 50%;\n",
              "      cursor: pointer;\n",
              "      display: none;\n",
              "      fill: #1967D2;\n",
              "      height: 32px;\n",
              "      padding: 0 0 0 0;\n",
              "      width: 32px;\n",
              "    }\n",
              "\n",
              "    .colab-df-convert:hover {\n",
              "      background-color: #E2EBFA;\n",
              "      box-shadow: 0px 1px 2px rgba(60, 64, 67, 0.3), 0px 1px 3px 1px rgba(60, 64, 67, 0.15);\n",
              "      fill: #174EA6;\n",
              "    }\n",
              "\n",
              "    [theme=dark] .colab-df-convert {\n",
              "      background-color: #3B4455;\n",
              "      fill: #D2E3FC;\n",
              "    }\n",
              "\n",
              "    [theme=dark] .colab-df-convert:hover {\n",
              "      background-color: #434B5C;\n",
              "      box-shadow: 0px 1px 3px 1px rgba(0, 0, 0, 0.15);\n",
              "      filter: drop-shadow(0px 1px 2px rgba(0, 0, 0, 0.3));\n",
              "      fill: #FFFFFF;\n",
              "    }\n",
              "  </style>\n",
              "\n",
              "      <script>\n",
              "        const buttonEl =\n",
              "          document.querySelector('#df-11fe7074-ad39-462d-864b-08484f54f26e button.colab-df-convert');\n",
              "        buttonEl.style.display =\n",
              "          google.colab.kernel.accessAllowed ? 'block' : 'none';\n",
              "\n",
              "        async function convertToInteractive(key) {\n",
              "          const element = document.querySelector('#df-11fe7074-ad39-462d-864b-08484f54f26e');\n",
              "          const dataTable =\n",
              "            await google.colab.kernel.invokeFunction('convertToInteractive',\n",
              "                                                     [key], {});\n",
              "          if (!dataTable) return;\n",
              "\n",
              "          const docLinkHtml = 'Like what you see? Visit the ' +\n",
              "            '<a target=\"_blank\" href=https://colab.research.google.com/notebooks/data_table.ipynb>data table notebook</a>'\n",
              "            + ' to learn more about interactive tables.';\n",
              "          element.innerHTML = '';\n",
              "          dataTable['output_type'] = 'display_data';\n",
              "          await google.colab.output.renderOutput(dataTable, element);\n",
              "          const docLink = document.createElement('div');\n",
              "          docLink.innerHTML = docLinkHtml;\n",
              "          element.appendChild(docLink);\n",
              "        }\n",
              "      </script>\n",
              "    </div>\n",
              "  </div>\n",
              "  "
            ]
          },
          "metadata": {},
          "execution_count": 41
        }
      ]
    },
    {
      "cell_type": "markdown",
      "source": [
        "### Estación más desbalanceadas por exceso de entradas"
      ],
      "metadata": {
        "id": "JbeTRpVU8m9f"
      }
    },
    {
      "cell_type": "code",
      "source": [
        "trips_by_station.sort_values(by='diff_trips', ascending=False).head()"
      ],
      "metadata": {
        "id": "HPehoeWG8n8T",
        "colab": {
          "base_uri": "https://localhost:8080/"
        },
        "outputId": "49244538-7b9a-4b43-bd4d-83e22f862351"
      },
      "execution_count": null,
      "outputs": [
        {
          "output_type": "execute_result",
          "data": {
            "text/plain": [
              "            trips_outbound  trips_inbound  total_trips  diff_trips\n",
              "station_id                                                        \n",
              "397                  12321           5410        17731        6911\n",
              "391                  10050           4268        14318        5782\n",
              "582                  10217           4883        15100        5334\n",
              "420                   7858           2974        10832        4884\n",
              "383                   7662           3080        10742        4582"
            ],
            "text/html": [
              "\n",
              "  <div id=\"df-3b3218f3-7559-4b99-94a6-032b48e96170\">\n",
              "    <div class=\"colab-df-container\">\n",
              "      <div>\n",
              "<style scoped>\n",
              "    .dataframe tbody tr th:only-of-type {\n",
              "        vertical-align: middle;\n",
              "    }\n",
              "\n",
              "    .dataframe tbody tr th {\n",
              "        vertical-align: top;\n",
              "    }\n",
              "\n",
              "    .dataframe thead th {\n",
              "        text-align: right;\n",
              "    }\n",
              "</style>\n",
              "<table border=\"1\" class=\"dataframe\">\n",
              "  <thead>\n",
              "    <tr style=\"text-align: right;\">\n",
              "      <th></th>\n",
              "      <th>trips_outbound</th>\n",
              "      <th>trips_inbound</th>\n",
              "      <th>total_trips</th>\n",
              "      <th>diff_trips</th>\n",
              "    </tr>\n",
              "    <tr>\n",
              "      <th>station_id</th>\n",
              "      <th></th>\n",
              "      <th></th>\n",
              "      <th></th>\n",
              "      <th></th>\n",
              "    </tr>\n",
              "  </thead>\n",
              "  <tbody>\n",
              "    <tr>\n",
              "      <th>397</th>\n",
              "      <td>12321</td>\n",
              "      <td>5410</td>\n",
              "      <td>17731</td>\n",
              "      <td>6911</td>\n",
              "    </tr>\n",
              "    <tr>\n",
              "      <th>391</th>\n",
              "      <td>10050</td>\n",
              "      <td>4268</td>\n",
              "      <td>14318</td>\n",
              "      <td>5782</td>\n",
              "    </tr>\n",
              "    <tr>\n",
              "      <th>582</th>\n",
              "      <td>10217</td>\n",
              "      <td>4883</td>\n",
              "      <td>15100</td>\n",
              "      <td>5334</td>\n",
              "    </tr>\n",
              "    <tr>\n",
              "      <th>420</th>\n",
              "      <td>7858</td>\n",
              "      <td>2974</td>\n",
              "      <td>10832</td>\n",
              "      <td>4884</td>\n",
              "    </tr>\n",
              "    <tr>\n",
              "      <th>383</th>\n",
              "      <td>7662</td>\n",
              "      <td>3080</td>\n",
              "      <td>10742</td>\n",
              "      <td>4582</td>\n",
              "    </tr>\n",
              "  </tbody>\n",
              "</table>\n",
              "</div>\n",
              "      <button class=\"colab-df-convert\" onclick=\"convertToInteractive('df-3b3218f3-7559-4b99-94a6-032b48e96170')\"\n",
              "              title=\"Convert this dataframe to an interactive table.\"\n",
              "              style=\"display:none;\">\n",
              "        \n",
              "  <svg xmlns=\"http://www.w3.org/2000/svg\" height=\"24px\"viewBox=\"0 0 24 24\"\n",
              "       width=\"24px\">\n",
              "    <path d=\"M0 0h24v24H0V0z\" fill=\"none\"/>\n",
              "    <path d=\"M18.56 5.44l.94 2.06.94-2.06 2.06-.94-2.06-.94-.94-2.06-.94 2.06-2.06.94zm-11 1L8.5 8.5l.94-2.06 2.06-.94-2.06-.94L8.5 2.5l-.94 2.06-2.06.94zm10 10l.94 2.06.94-2.06 2.06-.94-2.06-.94-.94-2.06-.94 2.06-2.06.94z\"/><path d=\"M17.41 7.96l-1.37-1.37c-.4-.4-.92-.59-1.43-.59-.52 0-1.04.2-1.43.59L10.3 9.45l-7.72 7.72c-.78.78-.78 2.05 0 2.83L4 21.41c.39.39.9.59 1.41.59.51 0 1.02-.2 1.41-.59l7.78-7.78 2.81-2.81c.8-.78.8-2.07 0-2.86zM5.41 20L4 18.59l7.72-7.72 1.47 1.35L5.41 20z\"/>\n",
              "  </svg>\n",
              "      </button>\n",
              "      \n",
              "  <style>\n",
              "    .colab-df-container {\n",
              "      display:flex;\n",
              "      flex-wrap:wrap;\n",
              "      gap: 12px;\n",
              "    }\n",
              "\n",
              "    .colab-df-convert {\n",
              "      background-color: #E8F0FE;\n",
              "      border: none;\n",
              "      border-radius: 50%;\n",
              "      cursor: pointer;\n",
              "      display: none;\n",
              "      fill: #1967D2;\n",
              "      height: 32px;\n",
              "      padding: 0 0 0 0;\n",
              "      width: 32px;\n",
              "    }\n",
              "\n",
              "    .colab-df-convert:hover {\n",
              "      background-color: #E2EBFA;\n",
              "      box-shadow: 0px 1px 2px rgba(60, 64, 67, 0.3), 0px 1px 3px 1px rgba(60, 64, 67, 0.15);\n",
              "      fill: #174EA6;\n",
              "    }\n",
              "\n",
              "    [theme=dark] .colab-df-convert {\n",
              "      background-color: #3B4455;\n",
              "      fill: #D2E3FC;\n",
              "    }\n",
              "\n",
              "    [theme=dark] .colab-df-convert:hover {\n",
              "      background-color: #434B5C;\n",
              "      box-shadow: 0px 1px 3px 1px rgba(0, 0, 0, 0.15);\n",
              "      filter: drop-shadow(0px 1px 2px rgba(0, 0, 0, 0.3));\n",
              "      fill: #FFFFFF;\n",
              "    }\n",
              "  </style>\n",
              "\n",
              "      <script>\n",
              "        const buttonEl =\n",
              "          document.querySelector('#df-3b3218f3-7559-4b99-94a6-032b48e96170 button.colab-df-convert');\n",
              "        buttonEl.style.display =\n",
              "          google.colab.kernel.accessAllowed ? 'block' : 'none';\n",
              "\n",
              "        async function convertToInteractive(key) {\n",
              "          const element = document.querySelector('#df-3b3218f3-7559-4b99-94a6-032b48e96170');\n",
              "          const dataTable =\n",
              "            await google.colab.kernel.invokeFunction('convertToInteractive',\n",
              "                                                     [key], {});\n",
              "          if (!dataTable) return;\n",
              "\n",
              "          const docLinkHtml = 'Like what you see? Visit the ' +\n",
              "            '<a target=\"_blank\" href=https://colab.research.google.com/notebooks/data_table.ipynb>data table notebook</a>'\n",
              "            + ' to learn more about interactive tables.';\n",
              "          element.innerHTML = '';\n",
              "          dataTable['output_type'] = 'display_data';\n",
              "          await google.colab.output.renderOutput(dataTable, element);\n",
              "          const docLink = document.createElement('div');\n",
              "          docLink.innerHTML = docLinkHtml;\n",
              "          element.appendChild(docLink);\n",
              "        }\n",
              "      </script>\n",
              "    </div>\n",
              "  </div>\n",
              "  "
            ]
          },
          "metadata": {},
          "execution_count": 43
        }
      ]
    },
    {
      "cell_type": "markdown",
      "source": [
        "### Estación promedio"
      ],
      "metadata": {
        "id": "WJD41J1c9G7C"
      }
    },
    {
      "cell_type": "code",
      "source": [
        "def distance_to_mean(element, df):\n",
        "  mean = df.mean()\n",
        "  dist = 0\n",
        "  for i in range(len(element)):\n",
        "    dist += np.power(element[i] - mean[i], 2)\n",
        "  \n",
        "  return np.sqrt(dist)"
      ],
      "metadata": {
        "id": "nDCt6Rmnm8CP"
      },
      "execution_count": null,
      "outputs": []
    },
    {
      "cell_type": "code",
      "source": [
        "trips_by_station['distance_to_mean'] = trips_by_station.apply(lambda station: distance_to_mean(station, trips_by_station), axis=1)\n",
        "trips_by_station.mean()"
      ],
      "metadata": {
        "id": "4uxKI-g19GpE",
        "colab": {
          "base_uri": "https://localhost:8080/"
        },
        "outputId": "7ecffbef-b59e-4d9c-85dd-77633ea89238"
      },
      "execution_count": null,
      "outputs": [
        {
          "output_type": "execute_result",
          "data": {
            "text/plain": [
              "trips_outbound     5417.114504\n",
              "trips_inbound      5417.114504\n",
              "total_trips       10834.229008\n",
              "diff_trips            0.000000\n",
              "dtype: float64"
            ]
          },
          "metadata": {},
          "execution_count": 46
        }
      ]
    },
    {
      "cell_type": "code",
      "source": [
        "trips_by_station.sort_values(by='distance_to_mean', ascending=True).head()"
      ],
      "metadata": {
        "colab": {
          "base_uri": "https://localhost:8080/"
        },
        "id": "HhTIClX6pbbQ",
        "outputId": "07b44782-b056-4333-f767-512cfef788b4"
      },
      "execution_count": null,
      "outputs": [
        {
          "output_type": "execute_result",
          "data": {
            "text/plain": [
              "            trips_outbound  trips_inbound  total_trips  diff_trips  \\\n",
              "station_id                                                           \n",
              "414                   5414           5447        10861         -33   \n",
              "455                   5480           5503        10983         -23   \n",
              "457                   5506           5498        11004           8   \n",
              "435                   5534           5587        11121         -53   \n",
              "422                   5204           5197        10401           7   \n",
              "\n",
              "            distance_to_mean  \n",
              "station_id                    \n",
              "414                52.043530  \n",
              "455               184.371126  \n",
              "457               208.156875  \n",
              "435               357.169292  \n",
              "422               530.664263  "
            ],
            "text/html": [
              "\n",
              "  <div id=\"df-a5407b48-a39e-4e65-97a9-7569a68d117e\">\n",
              "    <div class=\"colab-df-container\">\n",
              "      <div>\n",
              "<style scoped>\n",
              "    .dataframe tbody tr th:only-of-type {\n",
              "        vertical-align: middle;\n",
              "    }\n",
              "\n",
              "    .dataframe tbody tr th {\n",
              "        vertical-align: top;\n",
              "    }\n",
              "\n",
              "    .dataframe thead th {\n",
              "        text-align: right;\n",
              "    }\n",
              "</style>\n",
              "<table border=\"1\" class=\"dataframe\">\n",
              "  <thead>\n",
              "    <tr style=\"text-align: right;\">\n",
              "      <th></th>\n",
              "      <th>trips_outbound</th>\n",
              "      <th>trips_inbound</th>\n",
              "      <th>total_trips</th>\n",
              "      <th>diff_trips</th>\n",
              "      <th>distance_to_mean</th>\n",
              "    </tr>\n",
              "    <tr>\n",
              "      <th>station_id</th>\n",
              "      <th></th>\n",
              "      <th></th>\n",
              "      <th></th>\n",
              "      <th></th>\n",
              "      <th></th>\n",
              "    </tr>\n",
              "  </thead>\n",
              "  <tbody>\n",
              "    <tr>\n",
              "      <th>414</th>\n",
              "      <td>5414</td>\n",
              "      <td>5447</td>\n",
              "      <td>10861</td>\n",
              "      <td>-33</td>\n",
              "      <td>52.043530</td>\n",
              "    </tr>\n",
              "    <tr>\n",
              "      <th>455</th>\n",
              "      <td>5480</td>\n",
              "      <td>5503</td>\n",
              "      <td>10983</td>\n",
              "      <td>-23</td>\n",
              "      <td>184.371126</td>\n",
              "    </tr>\n",
              "    <tr>\n",
              "      <th>457</th>\n",
              "      <td>5506</td>\n",
              "      <td>5498</td>\n",
              "      <td>11004</td>\n",
              "      <td>8</td>\n",
              "      <td>208.156875</td>\n",
              "    </tr>\n",
              "    <tr>\n",
              "      <th>435</th>\n",
              "      <td>5534</td>\n",
              "      <td>5587</td>\n",
              "      <td>11121</td>\n",
              "      <td>-53</td>\n",
              "      <td>357.169292</td>\n",
              "    </tr>\n",
              "    <tr>\n",
              "      <th>422</th>\n",
              "      <td>5204</td>\n",
              "      <td>5197</td>\n",
              "      <td>10401</td>\n",
              "      <td>7</td>\n",
              "      <td>530.664263</td>\n",
              "    </tr>\n",
              "  </tbody>\n",
              "</table>\n",
              "</div>\n",
              "      <button class=\"colab-df-convert\" onclick=\"convertToInteractive('df-a5407b48-a39e-4e65-97a9-7569a68d117e')\"\n",
              "              title=\"Convert this dataframe to an interactive table.\"\n",
              "              style=\"display:none;\">\n",
              "        \n",
              "  <svg xmlns=\"http://www.w3.org/2000/svg\" height=\"24px\"viewBox=\"0 0 24 24\"\n",
              "       width=\"24px\">\n",
              "    <path d=\"M0 0h24v24H0V0z\" fill=\"none\"/>\n",
              "    <path d=\"M18.56 5.44l.94 2.06.94-2.06 2.06-.94-2.06-.94-.94-2.06-.94 2.06-2.06.94zm-11 1L8.5 8.5l.94-2.06 2.06-.94-2.06-.94L8.5 2.5l-.94 2.06-2.06.94zm10 10l.94 2.06.94-2.06 2.06-.94-2.06-.94-.94-2.06-.94 2.06-2.06.94z\"/><path d=\"M17.41 7.96l-1.37-1.37c-.4-.4-.92-.59-1.43-.59-.52 0-1.04.2-1.43.59L10.3 9.45l-7.72 7.72c-.78.78-.78 2.05 0 2.83L4 21.41c.39.39.9.59 1.41.59.51 0 1.02-.2 1.41-.59l7.78-7.78 2.81-2.81c.8-.78.8-2.07 0-2.86zM5.41 20L4 18.59l7.72-7.72 1.47 1.35L5.41 20z\"/>\n",
              "  </svg>\n",
              "      </button>\n",
              "      \n",
              "  <style>\n",
              "    .colab-df-container {\n",
              "      display:flex;\n",
              "      flex-wrap:wrap;\n",
              "      gap: 12px;\n",
              "    }\n",
              "\n",
              "    .colab-df-convert {\n",
              "      background-color: #E8F0FE;\n",
              "      border: none;\n",
              "      border-radius: 50%;\n",
              "      cursor: pointer;\n",
              "      display: none;\n",
              "      fill: #1967D2;\n",
              "      height: 32px;\n",
              "      padding: 0 0 0 0;\n",
              "      width: 32px;\n",
              "    }\n",
              "\n",
              "    .colab-df-convert:hover {\n",
              "      background-color: #E2EBFA;\n",
              "      box-shadow: 0px 1px 2px rgba(60, 64, 67, 0.3), 0px 1px 3px 1px rgba(60, 64, 67, 0.15);\n",
              "      fill: #174EA6;\n",
              "    }\n",
              "\n",
              "    [theme=dark] .colab-df-convert {\n",
              "      background-color: #3B4455;\n",
              "      fill: #D2E3FC;\n",
              "    }\n",
              "\n",
              "    [theme=dark] .colab-df-convert:hover {\n",
              "      background-color: #434B5C;\n",
              "      box-shadow: 0px 1px 3px 1px rgba(0, 0, 0, 0.15);\n",
              "      filter: drop-shadow(0px 1px 2px rgba(0, 0, 0, 0.3));\n",
              "      fill: #FFFFFF;\n",
              "    }\n",
              "  </style>\n",
              "\n",
              "      <script>\n",
              "        const buttonEl =\n",
              "          document.querySelector('#df-a5407b48-a39e-4e65-97a9-7569a68d117e button.colab-df-convert');\n",
              "        buttonEl.style.display =\n",
              "          google.colab.kernel.accessAllowed ? 'block' : 'none';\n",
              "\n",
              "        async function convertToInteractive(key) {\n",
              "          const element = document.querySelector('#df-a5407b48-a39e-4e65-97a9-7569a68d117e');\n",
              "          const dataTable =\n",
              "            await google.colab.kernel.invokeFunction('convertToInteractive',\n",
              "                                                     [key], {});\n",
              "          if (!dataTable) return;\n",
              "\n",
              "          const docLinkHtml = 'Like what you see? Visit the ' +\n",
              "            '<a target=\"_blank\" href=https://colab.research.google.com/notebooks/data_table.ipynb>data table notebook</a>'\n",
              "            + ' to learn more about interactive tables.';\n",
              "          element.innerHTML = '';\n",
              "          dataTable['output_type'] = 'display_data';\n",
              "          await google.colab.output.renderOutput(dataTable, element);\n",
              "          const docLink = document.createElement('div');\n",
              "          docLink.innerHTML = docLinkHtml;\n",
              "          element.appendChild(docLink);\n",
              "        }\n",
              "      </script>\n",
              "    </div>\n",
              "  </div>\n",
              "  "
            ]
          },
          "metadata": {},
          "execution_count": 66
        }
      ]
    },
    {
      "cell_type": "markdown",
      "source": [
        "# Modelos"
      ],
      "metadata": {
        "id": "9h7RzcgsqEBM"
      }
    },
    {
      "cell_type": "code",
      "source": [
        "from sklearn.ensemble import RandomForestRegressor\n",
        "from sklearn.metrics import mean_squared_error\n",
        "from sklearn.metrics import mean_squared_error\n",
        "from sklearn.model_selection import cross_val_score\n",
        "from sklearn.model_selection import train_test_split\n",
        "from sklearn.model_selection import RepeatedKFold\n",
        "from sklearn.model_selection import GridSearchCV\n",
        "from sklearn.model_selection import ParameterGrid"
      ],
      "metadata": {
        "id": "TgK9TBNJ0jdN"
      },
      "execution_count": 14,
      "outputs": []
    },
    {
      "cell_type": "code",
      "source": [
        "weather_phen_dict={\n",
        "    'no phenomena': 0,\n",
        "    'rain': 1,\n",
        "    'fog': 2,\n",
        "    'snow': 3\n",
        "}\n",
        "\n",
        "columns = ['day_of_month', 'month', 'year', 'hour', 'duration','weekday', 'temperature', 'wind_speed', 'weather_phenomena', 'trips']\n",
        "outbound_station = outbounds_enhanced[outbounds_enhanced.station_id == 414][columns].replace({'weather_phenomena': weather_phen_dict}).sort_values(by=['year','month', 'day_of_month', 'hour'])\n",
        "inbound_station = outbounds_enhanced[outbounds_enhanced.station_id == 414][columns].replace({'weather_phenomena': weather_phen_dict}).sort_values(by=['year','month', 'day_of_month', 'hour'])\n",
        "\n",
        "outbound_station.head(100)"
      ],
      "metadata": {
        "colab": {
          "base_uri": "https://localhost:8080/",
          "height": 424
        },
        "id": "IxlA6oiRzSvY",
        "outputId": "72c003b0-3350-4ba5-a260-82ade9acdcbe"
      },
      "execution_count": 27,
      "outputs": [
        {
          "output_type": "execute_result",
          "data": {
            "text/plain": [
              "       day_of_month  month  year hour  duration  weekday  temperature  \\\n",
              "92693             2      1  2021    9     281.0        5         -1.0   \n",
              "92967             2      1  2021   14     405.0        5         -1.0   \n",
              "93475             3      1  2021   11     844.0        6         -5.5   \n",
              "93709             3      1  2021   15    3760.0        6         -6.0   \n",
              "94218             4      1  2021    8     310.0        0         -8.5   \n",
              "...             ...    ...   ...  ...       ...      ...          ...   \n",
              "67266             2      2  2021   21     436.0        1         -8.0   \n",
              "67863             3      2  2021   14     433.0        2         -9.0   \n",
              "67956             3      2  2021   15     328.0        2        -10.5   \n",
              "69022             4      2  2021   15     352.5        3        -10.5   \n",
              "69120             4      2  2021   16     898.0        3        -11.5   \n",
              "\n",
              "       wind_speed  weather_phenomena trips  \n",
              "92693         3.0                  3     1  \n",
              "92967         2.5                  3     2  \n",
              "93475         2.5                  0     1  \n",
              "93709         1.5                  0     1  \n",
              "94218         3.0                  0     1  \n",
              "...           ...                ...   ...  \n",
              "67266         4.0                  3     1  \n",
              "67863         4.5                  0     1  \n",
              "67956         4.5                  0     1  \n",
              "69022         4.5                  0     2  \n",
              "69120         3.0                  0     1  \n",
              "\n",
              "[100 rows x 10 columns]"
            ],
            "text/html": [
              "\n",
              "  <div id=\"df-fef8dd70-7a73-4496-a11b-adcb538084de\">\n",
              "    <div class=\"colab-df-container\">\n",
              "      <div>\n",
              "<style scoped>\n",
              "    .dataframe tbody tr th:only-of-type {\n",
              "        vertical-align: middle;\n",
              "    }\n",
              "\n",
              "    .dataframe tbody tr th {\n",
              "        vertical-align: top;\n",
              "    }\n",
              "\n",
              "    .dataframe thead th {\n",
              "        text-align: right;\n",
              "    }\n",
              "</style>\n",
              "<table border=\"1\" class=\"dataframe\">\n",
              "  <thead>\n",
              "    <tr style=\"text-align: right;\">\n",
              "      <th></th>\n",
              "      <th>day_of_month</th>\n",
              "      <th>month</th>\n",
              "      <th>year</th>\n",
              "      <th>hour</th>\n",
              "      <th>duration</th>\n",
              "      <th>weekday</th>\n",
              "      <th>temperature</th>\n",
              "      <th>wind_speed</th>\n",
              "      <th>weather_phenomena</th>\n",
              "      <th>trips</th>\n",
              "    </tr>\n",
              "  </thead>\n",
              "  <tbody>\n",
              "    <tr>\n",
              "      <th>92693</th>\n",
              "      <td>2</td>\n",
              "      <td>1</td>\n",
              "      <td>2021</td>\n",
              "      <td>9</td>\n",
              "      <td>281.0</td>\n",
              "      <td>5</td>\n",
              "      <td>-1.0</td>\n",
              "      <td>3.0</td>\n",
              "      <td>3</td>\n",
              "      <td>1</td>\n",
              "    </tr>\n",
              "    <tr>\n",
              "      <th>92967</th>\n",
              "      <td>2</td>\n",
              "      <td>1</td>\n",
              "      <td>2021</td>\n",
              "      <td>14</td>\n",
              "      <td>405.0</td>\n",
              "      <td>5</td>\n",
              "      <td>-1.0</td>\n",
              "      <td>2.5</td>\n",
              "      <td>3</td>\n",
              "      <td>2</td>\n",
              "    </tr>\n",
              "    <tr>\n",
              "      <th>93475</th>\n",
              "      <td>3</td>\n",
              "      <td>1</td>\n",
              "      <td>2021</td>\n",
              "      <td>11</td>\n",
              "      <td>844.0</td>\n",
              "      <td>6</td>\n",
              "      <td>-5.5</td>\n",
              "      <td>2.5</td>\n",
              "      <td>0</td>\n",
              "      <td>1</td>\n",
              "    </tr>\n",
              "    <tr>\n",
              "      <th>93709</th>\n",
              "      <td>3</td>\n",
              "      <td>1</td>\n",
              "      <td>2021</td>\n",
              "      <td>15</td>\n",
              "      <td>3760.0</td>\n",
              "      <td>6</td>\n",
              "      <td>-6.0</td>\n",
              "      <td>1.5</td>\n",
              "      <td>0</td>\n",
              "      <td>1</td>\n",
              "    </tr>\n",
              "    <tr>\n",
              "      <th>94218</th>\n",
              "      <td>4</td>\n",
              "      <td>1</td>\n",
              "      <td>2021</td>\n",
              "      <td>8</td>\n",
              "      <td>310.0</td>\n",
              "      <td>0</td>\n",
              "      <td>-8.5</td>\n",
              "      <td>3.0</td>\n",
              "      <td>0</td>\n",
              "      <td>1</td>\n",
              "    </tr>\n",
              "    <tr>\n",
              "      <th>...</th>\n",
              "      <td>...</td>\n",
              "      <td>...</td>\n",
              "      <td>...</td>\n",
              "      <td>...</td>\n",
              "      <td>...</td>\n",
              "      <td>...</td>\n",
              "      <td>...</td>\n",
              "      <td>...</td>\n",
              "      <td>...</td>\n",
              "      <td>...</td>\n",
              "    </tr>\n",
              "    <tr>\n",
              "      <th>67266</th>\n",
              "      <td>2</td>\n",
              "      <td>2</td>\n",
              "      <td>2021</td>\n",
              "      <td>21</td>\n",
              "      <td>436.0</td>\n",
              "      <td>1</td>\n",
              "      <td>-8.0</td>\n",
              "      <td>4.0</td>\n",
              "      <td>3</td>\n",
              "      <td>1</td>\n",
              "    </tr>\n",
              "    <tr>\n",
              "      <th>67863</th>\n",
              "      <td>3</td>\n",
              "      <td>2</td>\n",
              "      <td>2021</td>\n",
              "      <td>14</td>\n",
              "      <td>433.0</td>\n",
              "      <td>2</td>\n",
              "      <td>-9.0</td>\n",
              "      <td>4.5</td>\n",
              "      <td>0</td>\n",
              "      <td>1</td>\n",
              "    </tr>\n",
              "    <tr>\n",
              "      <th>67956</th>\n",
              "      <td>3</td>\n",
              "      <td>2</td>\n",
              "      <td>2021</td>\n",
              "      <td>15</td>\n",
              "      <td>328.0</td>\n",
              "      <td>2</td>\n",
              "      <td>-10.5</td>\n",
              "      <td>4.5</td>\n",
              "      <td>0</td>\n",
              "      <td>1</td>\n",
              "    </tr>\n",
              "    <tr>\n",
              "      <th>69022</th>\n",
              "      <td>4</td>\n",
              "      <td>2</td>\n",
              "      <td>2021</td>\n",
              "      <td>15</td>\n",
              "      <td>352.5</td>\n",
              "      <td>3</td>\n",
              "      <td>-10.5</td>\n",
              "      <td>4.5</td>\n",
              "      <td>0</td>\n",
              "      <td>2</td>\n",
              "    </tr>\n",
              "    <tr>\n",
              "      <th>69120</th>\n",
              "      <td>4</td>\n",
              "      <td>2</td>\n",
              "      <td>2021</td>\n",
              "      <td>16</td>\n",
              "      <td>898.0</td>\n",
              "      <td>3</td>\n",
              "      <td>-11.5</td>\n",
              "      <td>3.0</td>\n",
              "      <td>0</td>\n",
              "      <td>1</td>\n",
              "    </tr>\n",
              "  </tbody>\n",
              "</table>\n",
              "<p>100 rows × 10 columns</p>\n",
              "</div>\n",
              "      <button class=\"colab-df-convert\" onclick=\"convertToInteractive('df-fef8dd70-7a73-4496-a11b-adcb538084de')\"\n",
              "              title=\"Convert this dataframe to an interactive table.\"\n",
              "              style=\"display:none;\">\n",
              "        \n",
              "  <svg xmlns=\"http://www.w3.org/2000/svg\" height=\"24px\"viewBox=\"0 0 24 24\"\n",
              "       width=\"24px\">\n",
              "    <path d=\"M0 0h24v24H0V0z\" fill=\"none\"/>\n",
              "    <path d=\"M18.56 5.44l.94 2.06.94-2.06 2.06-.94-2.06-.94-.94-2.06-.94 2.06-2.06.94zm-11 1L8.5 8.5l.94-2.06 2.06-.94-2.06-.94L8.5 2.5l-.94 2.06-2.06.94zm10 10l.94 2.06.94-2.06 2.06-.94-2.06-.94-.94-2.06-.94 2.06-2.06.94z\"/><path d=\"M17.41 7.96l-1.37-1.37c-.4-.4-.92-.59-1.43-.59-.52 0-1.04.2-1.43.59L10.3 9.45l-7.72 7.72c-.78.78-.78 2.05 0 2.83L4 21.41c.39.39.9.59 1.41.59.51 0 1.02-.2 1.41-.59l7.78-7.78 2.81-2.81c.8-.78.8-2.07 0-2.86zM5.41 20L4 18.59l7.72-7.72 1.47 1.35L5.41 20z\"/>\n",
              "  </svg>\n",
              "      </button>\n",
              "      \n",
              "  <style>\n",
              "    .colab-df-container {\n",
              "      display:flex;\n",
              "      flex-wrap:wrap;\n",
              "      gap: 12px;\n",
              "    }\n",
              "\n",
              "    .colab-df-convert {\n",
              "      background-color: #E8F0FE;\n",
              "      border: none;\n",
              "      border-radius: 50%;\n",
              "      cursor: pointer;\n",
              "      display: none;\n",
              "      fill: #1967D2;\n",
              "      height: 32px;\n",
              "      padding: 0 0 0 0;\n",
              "      width: 32px;\n",
              "    }\n",
              "\n",
              "    .colab-df-convert:hover {\n",
              "      background-color: #E2EBFA;\n",
              "      box-shadow: 0px 1px 2px rgba(60, 64, 67, 0.3), 0px 1px 3px 1px rgba(60, 64, 67, 0.15);\n",
              "      fill: #174EA6;\n",
              "    }\n",
              "\n",
              "    [theme=dark] .colab-df-convert {\n",
              "      background-color: #3B4455;\n",
              "      fill: #D2E3FC;\n",
              "    }\n",
              "\n",
              "    [theme=dark] .colab-df-convert:hover {\n",
              "      background-color: #434B5C;\n",
              "      box-shadow: 0px 1px 3px 1px rgba(0, 0, 0, 0.15);\n",
              "      filter: drop-shadow(0px 1px 2px rgba(0, 0, 0, 0.3));\n",
              "      fill: #FFFFFF;\n",
              "    }\n",
              "  </style>\n",
              "\n",
              "      <script>\n",
              "        const buttonEl =\n",
              "          document.querySelector('#df-fef8dd70-7a73-4496-a11b-adcb538084de button.colab-df-convert');\n",
              "        buttonEl.style.display =\n",
              "          google.colab.kernel.accessAllowed ? 'block' : 'none';\n",
              "\n",
              "        async function convertToInteractive(key) {\n",
              "          const element = document.querySelector('#df-fef8dd70-7a73-4496-a11b-adcb538084de');\n",
              "          const dataTable =\n",
              "            await google.colab.kernel.invokeFunction('convertToInteractive',\n",
              "                                                     [key], {});\n",
              "          if (!dataTable) return;\n",
              "\n",
              "          const docLinkHtml = 'Like what you see? Visit the ' +\n",
              "            '<a target=\"_blank\" href=https://colab.research.google.com/notebooks/data_table.ipynb>data table notebook</a>'\n",
              "            + ' to learn more about interactive tables.';\n",
              "          element.innerHTML = '';\n",
              "          dataTable['output_type'] = 'display_data';\n",
              "          await google.colab.output.renderOutput(dataTable, element);\n",
              "          const docLink = document.createElement('div');\n",
              "          docLink.innerHTML = docLinkHtml;\n",
              "          element.appendChild(docLink);\n",
              "        }\n",
              "      </script>\n",
              "    </div>\n",
              "  </div>\n",
              "  "
            ]
          },
          "metadata": {},
          "execution_count": 27
        }
      ]
    },
    {
      "cell_type": "code",
      "source": [
        "TRAIN_SIZE=3*len(outbound_station)//4\n",
        "\n",
        "outbound_train = outbound_station[:TRAIN_SIZE]\n",
        "outbound_test = outbound_station[TRAIN_SIZE:]\n",
        "outbound_train_X = outbound_train.drop(columns = \"trips\")\n",
        "outbound_train_y = outbound_train[\"trips\"]\n",
        "outbound_test_X = outbound_test.drop(columns = \"trips\")\n",
        "outbound_test_y = outbound_test[\"trips\"]\n"
      ],
      "metadata": {
        "id": "k8BhIg2d1ncl"
      },
      "execution_count": 31,
      "outputs": []
    },
    {
      "cell_type": "markdown",
      "source": [
        "## Random forest"
      ],
      "metadata": {
        "id": "0_bfvmtcycOE"
      }
    },
    {
      "cell_type": "code",
      "source": [
        "RANDOM_STATE = 27\n",
        "\n",
        "rf_outbounds = RandomForestRegressor(\n",
        "            n_estimators=10,\n",
        "            criterion='squared_error',\n",
        "            max_depth=None,\n",
        "            random_state=RANDOM_STATE\n",
        "         )"
      ],
      "metadata": {
        "id": "xtyHEkEcybye"
      },
      "execution_count": 32,
      "outputs": []
    },
    {
      "cell_type": "code",
      "source": [
        "rf_outbounds.fit(outbound_train_X, outbound_train_y)"
      ],
      "metadata": {
        "colab": {
          "base_uri": "https://localhost:8080/"
        },
        "id": "Ep3tTTRXqDaC",
        "outputId": "99370627-f6af-4a30-88da-b4eaa3804efa"
      },
      "execution_count": 34,
      "outputs": [
        {
          "output_type": "execute_result",
          "data": {
            "text/plain": [
              "RandomForestRegressor(n_estimators=10, random_state=27)"
            ]
          },
          "metadata": {},
          "execution_count": 34
        }
      ]
    },
    {
      "cell_type": "code",
      "source": [
        "predicciones = rf_outbounds.predict(X = outbound_test_X)\n",
        "\n",
        "rmse = mean_squared_error(\n",
        "        y_true  = outbound_test_y,\n",
        "        y_pred  = predicciones,\n",
        "        squared = False\n",
        "       )\n",
        "print(f\"El error (rmse) de test es: {rmse}\")"
      ],
      "metadata": {
        "colab": {
          "base_uri": "https://localhost:8080/"
        },
        "id": "y-JGleEJ9tMU",
        "outputId": "9146711b-3cdb-400b-fc2a-ec964b2dfe74"
      },
      "execution_count": 35,
      "outputs": [
        {
          "output_type": "stream",
          "name": "stdout",
          "text": [
            "El error (rmse) de test es: 1.2875869618522071\n"
          ]
        }
      ]
    },
    {
      "cell_type": "code",
      "source": [],
      "metadata": {
        "id": "3MnMNGNer8zR"
      },
      "execution_count": null,
      "outputs": []
    }
  ]
}